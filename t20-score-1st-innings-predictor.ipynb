{
 "cells": [
  {
   "cell_type": "markdown",
   "id": "e0289ce5",
   "metadata": {},
   "source": [
    "# T20 Score and Win Predictor"
   ]
  },
  {
   "cell_type": "markdown",
   "id": "4703a3c8",
   "metadata": {},
   "source": [
    "This program is designed to aid cricket fans make a fair estimate of how the cricket match will progress by; \n",
    "1. making an estimate on the innings total of the team batting first and,\n",
    "2. providing an indicator of how well the team batting second is chasing the target,\n",
    "\n",
    "at a midway stage of the innings.\n",
    "\n",
    "The program uses Machine Learning Libraries such as \n",
    "1. sklearn\n",
    "2. xgboost\n",
    "to construct these estimates.\n",
    "\n",
    "For the test data in order to train the program, ball by ball data from the matches in the Indian Premier League (IPL) from the years 2008 - 2021 May have been used. Even though most of the matches are played in India and majority of players are from a single country, I have considered using this dataset to apply for International Matches (and other league matches) for a few reasons. \n",
    "* The matches span over a decade hence we have a very large number of match and overs scenarios.\n",
    "* Though all matches are played in India (barring some in South Africa and UAE) the variety in their own pitch conditions allow all type of scenarios.\n",
    "* The IPL provides a platform for both seasoned international players as well as young inexperienced players, hence we a large number of player profiles of all types of skills.\n",
    "* The competitive nature of the IPL provides a near equal competitiveness to events such as a World Cup Tournament.\n",
    "* Non Availability of Datasets for all International Matches.\n",
    "\n",
    "Our basic assusmption is that the run scoring will be independent of who the teams are, or grounds where they played, or when they have played these matches used in the test data\n",
    "\n",
    "In this model design, the program will select the cases which are similar to the inputted data such as based on the overs remaining and the wickets remaining. These two features are considered as the main two parameters that effect the availability of resources for a team to score a certain total of runs. This is the same idealogy adopted by the Duckworth-Lewis-Stern method in handling match scenarios with weather related interruptions. \n",
    "\n",
    "It is only with the selected data, the predictive model is built.\n",
    "\n",
    "Nevertheless, cricket is very unpredictable game which is one of the reasons it is such an enjoyable soprt to watch. Therefore more often than not match predictions will fluctuate as the match further progresses."
   ]
  },
  {
   "cell_type": "markdown",
   "id": "32f61802",
   "metadata": {},
   "source": [
    "## Importing required libraries"
   ]
  },
  {
   "cell_type": "code",
   "execution_count": 1,
   "id": "53ff82fb",
   "metadata": {},
   "outputs": [],
   "source": [
    "import numpy as np # linear algebra\n",
    "import pandas as pd # data processing, CSV file I/O (e.g. pd.read_csv)\n",
    "\n",
    "pd.plotting.register_matplotlib_converters()\n",
    "import matplotlib.pyplot as plt\n",
    "%matplotlib inline\n",
    "import seaborn as sns\n",
    "from scipy.stats import norm\n",
    "\n",
    "import sys\n",
    "import math"
   ]
  },
  {
   "cell_type": "code",
   "execution_count": 2,
   "id": "3fa8f6c7",
   "metadata": {},
   "outputs": [],
   "source": [
    "# for measuring the efficiency/variability of the model\n",
    "from sklearn.metrics import mean_absolute_error\n",
    "\n",
    "# importing XGBoost API\n",
    "from xgboost import XGBRegressor"
   ]
  },
  {
   "cell_type": "markdown",
   "id": "c8fb7f05",
   "metadata": {},
   "source": [
    "## Importing the data"
   ]
  },
  {
   "cell_type": "code",
   "execution_count": 3,
   "id": "6c66394a",
   "metadata": {},
   "outputs": [],
   "source": [
    "file_path = \"../T20-Cricket-Score-Predictor/Dataset/ball-by-ball-data.csv\"\n",
    "file = pd.read_csv(file_path)\n",
    "file = file.dropna()"
   ]
  },
  {
   "cell_type": "markdown",
   "id": "27b60e87",
   "metadata": {},
   "source": [
    "## Prepping the data"
   ]
  },
  {
   "cell_type": "code",
   "execution_count": 4,
   "id": "01343152",
   "metadata": {},
   "outputs": [],
   "source": [
    "# Adding a column to record a loss of a wicket\n",
    "file['dismissal_kind'] = file['dismissal_kind'].replace(' ',1)\n",
    "\n",
    "dismissals =[]\n",
    "for i in file.index: \n",
    "    if file.loc[i,'dismissal_kind'] == 1:\n",
    "        dismissals.append(0)\n",
    "    else:\n",
    "        dismissals.append(1)\n",
    "\n",
    "file['Wicket_Lost'] = dismissals"
   ]
  },
  {
   "cell_type": "markdown",
   "id": "222050f1",
   "metadata": {},
   "source": [
    "#### Prepping and Cleaning for 1st innings"
   ]
  },
  {
   "cell_type": "code",
   "execution_count": 5,
   "id": "21cf4c7d",
   "metadata": {},
   "outputs": [],
   "source": [
    "features = ['Match_id','Over','delivery','total_runs','Wicket_Lost']\n",
    "file_inn1 = file[features].loc[file.Inning==1]\n",
    "file_inn1['Inn_Score_atm'] = file_inn1.groupby('Match_id').total_runs.cumsum()\n",
    "file_inn1['Inn_Wicks_atm'] = file_inn1.groupby('Match_id').Wicket_Lost.cumsum()\n",
    "\n",
    "m1_id = file_inn1.groupby(['Match_id']).Inn_Score_atm.idxmax()\n",
    "features1 = ['Match_id','Inn_Score_atm','Inn_Wicks_atm','Over']\n",
    "match_1 = file_inn1.loc[m1_id,features1]\n",
    "match_1 = match_1.rename(columns={'Inn_Score_atm': 'Final_Inning_Score'})\n",
    "match_1 = match_1.rename(columns={'Inn_Wicks_atm': 'Final_Wickets_Lost'})\n",
    "match_1 = match_1.rename(columns={'Over': 'Max_over_played'})"
   ]
  },
  {
   "cell_type": "code",
   "execution_count": 6,
   "id": "c295052d",
   "metadata": {},
   "outputs": [],
   "source": [
    "# to avoid selecting matches affected by rain and couldn't complete an ideal 20 overs\n",
    "# let's take all the matches which managed to bat until a minumum of 16 overs or lost more than 8 wickets\n",
    "\n",
    "# matches omitted from the model due to far from incomplete innings\n",
    "# match.loc[((match.Max_over_played < 16)) & (match.Final_Wickets_Lost <= 8)]\n",
    "\n",
    "match_1 = match_1.loc[((match_1.Max_over_played >= 16) & (match_1.Final_Wickets_Lost != 10)) |\n",
    "                      (match_1.Final_Wickets_Lost > 8)]"
   ]
  },
  {
   "cell_type": "code",
   "execution_count": 7,
   "id": "9eae9d4f",
   "metadata": {},
   "outputs": [],
   "source": [
    "# obtaining details about each over in the 1st innings as file_over1 database\n",
    "\n",
    "a_id = file_inn1.groupby(['Match_id','Over']).delivery.idxmax()\n",
    "features2 = ['Match_id','Over','Inn_Score_atm','Inn_Wicks_atm']\n",
    "file_over1 = file_inn1.loc[a_id,features2]\n",
    "\n",
    "# Run Rate at the end of each over of the 1st innings\n",
    "file_over1['R_Rate_atm'] = round((file_over1.Inn_Score_atm / file_over1.Over),2)\n",
    "\n",
    "# Average Patnership Score (Total Runs Scored/(No of Wickets + 1)) at the end of each over of 1st innings\n",
    "file_over1['Ptnr_Avg_atm'] = round((file_over1.Inn_Score_atm / (file_over1.Inn_Wicks_atm+1)),2)\n",
    "\n",
    "# Average Strike Rate of Wickets falling or No of balls on average a partnership stayed \n",
    "# (Total no of balls played / (No of wickets +1))\n",
    "file_over1['Ptnr_Balls_atm'] = round(((file_over1.Over*6) / (file_over1.Inn_Wicks_atm+1)),2)\n",
    "\n",
    "# Runs and Wickets Lost in the last 3 recent overs of the innings\n",
    "file_over1['L3_Runs'] = file_over1.Inn_Score_atm - file_over1.Inn_Score_atm.shift(3)     \n",
    "file_over1['L3_Wicks'] = file_over1.Inn_Wicks_atm - file_over1.Inn_Wicks_atm.shift(3)   "
   ]
  },
  {
   "cell_type": "code",
   "execution_count": 8,
   "id": "c932d7b0",
   "metadata": {},
   "outputs": [],
   "source": [
    "# The final database we use for our data prediction\n",
    "\n",
    "base_data_i1 = match_1.set_index(\"Match_id\").join(file_over1.set_index(\"Match_id\"))\n",
    "base_data_i1['Runs_to_be_Scored'] = base_data_i1['Final_Inning_Score'] - base_data_i1['Inn_Score_atm']\n",
    "base_data_i1 = base_data_i1.loc[base_data_i1.Over > 3]"
   ]
  },
  {
   "cell_type": "markdown",
   "id": "9afbfb17",
   "metadata": {},
   "source": [
    "## Functions for model building"
   ]
  },
  {
   "cell_type": "markdown",
   "id": "54c377ab",
   "metadata": {},
   "source": [
    "### Functions needed to select the relevant data"
   ]
  },
  {
   "cell_type": "code",
   "execution_count": 9,
   "id": "e7186839",
   "metadata": {},
   "outputs": [],
   "source": [
    "def obtain_data_t20_i1(input_over, input_wick):\n",
    "    global overs_req\n",
    "    global wicks_req\n",
    "    global data_base\n",
    "    \n",
    "    # our base dataframe is base_data_i1\n",
    "    \n",
    "    # required rows of data to model fromwhich are played within +/- 3 overs of the input_over\n",
    "    overs_req = (\n",
    "                 (base_data_i1.Over == (input_over-3)) | (base_data_i1.Over == (input_over-2)) | \n",
    "                 (base_data_i1.Over == (input_over-1)) | (base_data_i1.Over == (input_over+0)) | \n",
    "                 (base_data_i1.Over == (input_over+1)) | (base_data_i1.Over == (input_over+2)) | \n",
    "                 (base_data_i1.Over == (input_over+3))\n",
    "                )\n",
    "    \n",
    "    # required rows of data to model from which are played having lost +/- 1 wicket of the input_wick\n",
    "    wicks_req = ((base_data_i1.Inn_Wicks_atm == (input_wick-1)) | (base_data_i1.Inn_Wicks_atm == (input_wick)) |\n",
    "                 (base_data_i1.Inn_Wicks_atm == (input_wick+1))\n",
    "                )\n",
    "    # required rows of data to model from which the same number of wickets have been lost in the preceeding 3 overs\n",
    "    L3WLs_req = base_data_i1.L3_Wicks == input_L3Ws\n",
    "    \n",
    "    # required rows of data to model from which the similar run scoring in the preceeding 3 overs\n",
    "    L3RSc_req = ((base_data_i1.L3_Runs == (input_L3Rs-3)) | (base_data_i1.L3_Runs == (input_L3Rs-2)) |\n",
    "                 (base_data_i1.L3_Runs == (input_L3Rs-1)) | (base_data_i1.L3_Runs == (input_L3Rs-0)) |\n",
    "                 (base_data_i1.L3_Runs == (input_L3Rs+1)) | (base_data_i1.L3_Runs == (input_L3Rs+2)) |\n",
    "                 (base_data_i1.L3_Runs == (input_L3Rs+3))\n",
    "                )\n",
    "    \n",
    "    # extracting required data from the either of the two criteria above\n",
    "    data_base = base_data_i1.loc[ overs_req | wicks_req | L3WLs_req | L3RSc_req ] \n",
    "    \n",
    "    print(' ')\n",
    "    print('>> Calculating from ' + str(data_base.Over.count()) + ' similar instances.')\n",
    "    \n",
    "    #calling out the next function\n",
    "    select_features_i1(data_base)"
   ]
  },
  {
   "cell_type": "markdown",
   "id": "644b82dc",
   "metadata": {},
   "source": [
    "### Functions needed to build the model data"
   ]
  },
  {
   "cell_type": "code",
   "execution_count": 10,
   "id": "e1a54d8a",
   "metadata": {},
   "outputs": [],
   "source": [
    "def select_features_i1(data_base):\n",
    "    \n",
    "    # independent and input variables features\n",
    "    x_features = ['Over','Inn_Score_atm','Inn_Wicks_atm','R_Rate_atm','Ptnr_Avg_atm','L3_Wicks','L3_Runs']\n",
    "    X = data_base[x_features]\n",
    "    \n",
    "    # target variable \n",
    "    y = data_base.Runs_to_be_Scored\n",
    "    \n",
    "    #calling out the next function\n",
    "    XGB_model = data_modelling(X,y)\n",
    "    \n",
    "    #calling out the next function\n",
    "    (expected_runs, err) = obtain_error(XGB_model,X,y)\n",
    "    \n",
    "    #calling out next function\n",
    "    design_output_i1(expected_runs,err)"
   ]
  },
  {
   "cell_type": "code",
   "execution_count": 11,
   "id": "82215e7b",
   "metadata": {},
   "outputs": [],
   "source": [
    "def data_modelling(X,y):\n",
    "    \n",
    "    # programming the model\n",
    "    XGB_model = XGBRegressor(n_estimators = 400, learning_rate=0.05)\n",
    "    XGB_model.fit(X,y)\n",
    "    return XGB_model"
   ]
  },
  {
   "cell_type": "code",
   "execution_count": 12,
   "id": "62247de1",
   "metadata": {},
   "outputs": [],
   "source": [
    "def obtain_error(XGB_model,X,y):\n",
    "    # obatining the predictions\n",
    "    pred_y = XGB_model.predict(X)\n",
    "    \n",
    "    # error measured by mean_absolute_error according to predicted and actual target values\n",
    "    err = int(mean_absolute_error(y, pred_y))\n",
    "    \n",
    "    # adjusting error depending on over                                                   # this was obtained by trial and\n",
    "    err_adj_1 = math.log(-27+50,(math.e**math.sqrt(12)))                                     # error\n",
    "    \n",
    "    # adjusting error depending on prediction of score\n",
    "    expected_runs = int(XGB_model.predict(input_data))\n",
    "    expected_percent = round( (abs(expected_runs) / (input_runs+expected_runs) ),2)*100.\n",
    "    err_adj_2 = math.log(expected_percent,(math.e**math.sqrt(16)))\n",
    "    \n",
    "    # error value\n",
    "    err = err * (err_adj_1 * err_adj_2) ** (1/2)\n",
    "    err = int(err)\n",
    "    return expected_runs,err"
   ]
  },
  {
   "cell_type": "code",
   "execution_count": 13,
   "id": "f6d26133",
   "metadata": {},
   "outputs": [],
   "source": [
    "def design_output_i1(expected_runs,err):\n",
    "    \n",
    "    # developing outputs\n",
    "    pred_score = input_runs + expected_runs\n",
    "    max_score  = int(pred_score + err)\n",
    "    min_score  = int(pred_score - err)\n",
    "    proj_RunR  = round((expected_runs/(20-input_over)),2)\n",
    "    \n",
    "    if min_score < input_runs:\n",
    "        min_score = min_score_adj(min_score)\n",
    "    else:\n",
    "        pass\n",
    "    display_outputs_i1(min_score, max_score, pred_score, err, expected_runs, proj_RunR)"
   ]
  },
  {
   "cell_type": "code",
   "execution_count": 14,
   "id": "00676a9b",
   "metadata": {},
   "outputs": [],
   "source": [
    "def min_score_adj(min_score):\n",
    "    min_score = input_runs + 5\n",
    "    return min_score"
   ]
  },
  {
   "cell_type": "markdown",
   "id": "edaef4f2",
   "metadata": {},
   "source": [
    "### Functions to select inputs from user"
   ]
  },
  {
   "cell_type": "code",
   "execution_count": 15,
   "id": "d94ad632",
   "metadata": {},
   "outputs": [],
   "source": [
    "# function to obatin inputs for calculation\n",
    "def input_t20_i1():\n",
    "    \n",
    "    global input_data\n",
    "    \n",
    "    # obtaining inputs for the predictor\n",
    "    receive_over_t20()         # no of overs played yet\n",
    "    receive_runs()             # no of runs scored in the innings yet\n",
    "    \n",
    "    # calculating other variables such as Run Rate(input_RunR) to displayed to user\n",
    "    input_RunR = round((input_runs/input_over),2)\n",
    "    print(\">> Current Run Rate : \" + str(input_RunR) )\n",
    "    \n",
    "    receive_wick()         # no of wickets lost in the innings yet\n",
    "    receive_L3Ws()         # no of wickets lost in the last 3 overs\n",
    "    receive_L3Rs()         # no of runs scores in the last 3 overs\n",
    "    \n",
    "    # calculating other variables - Partnership Average(input_pAvg)\n",
    "    input_PAvg = round((input_runs/(input_wick + 1)),2)\n",
    "    \n",
    "    # placing input data into a dataframe\n",
    "    input_data = pd.DataFrame( {'Over' : [input_over] , 'Inn_Score_atm' : [input_runs] , 'Inn_Wicks_atm': [input_wick],\n",
    "                               'R_Rate_atm': [input_RunR] ,  'Ptnr_Avg_atm': [input_PAvg] , 'L3_Wicks': [input_L3Ws],\n",
    "                               'L3_Runs': [input_L3Rs] })\n",
    "    \n",
    "    # calling out the next function to obtain data from base_data\n",
    "    # using input_over & input_wick for the inputs\n",
    "    obtain_data_t20_i1(input_over, input_wick)"
   ]
  },
  {
   "cell_type": "code",
   "execution_count": 16,
   "id": "9eb829a2",
   "metadata": {},
   "outputs": [],
   "source": [
    "# function to receive no of overs played in the innings (input_over)\n",
    "def receive_over_t20():\n",
    "    \n",
    "    # placing input_over as a gobal variable\n",
    "    global input_over\n",
    "    \n",
    "    # statement to receive input_over \n",
    "    input_over = int(input(\"Enter number of Overs completed : \"))\n",
    "    \n",
    "    # validating input_over variable \n",
    "    if input_over > 0:\n",
    "        if input_over >= 5:\n",
    "            if input_over < 20:\n",
    "                pass\n",
    "            elif input_over == 20:\n",
    "                print(\">>!! Innings completed. Input a number for overs from 5 to 19.\")\n",
    "                print(' ')\n",
    "                sys.exit()\n",
    "            else:\n",
    "                print(\">>!! Invalid over. Input a number for overs from 5 to 19.\")\n",
    "                print(' ')\n",
    "                sys.exit()\n",
    "        else:\n",
    "            print(\">>!! Over inputted is to early to make a prediction. Reinput data from the 5th over onwards\")\n",
    "            print(' ')\n",
    "            sys.exit()\n",
    "    else:\n",
    "        print(\">>!! Invalid over. Input a number for overs from 5 to 19.\")\n",
    "        print(' ')\n",
    "        sys.exit()\n",
    "        \n",
    "    # output to receive_input function\n",
    "    return input_over"
   ]
  },
  {
   "cell_type": "code",
   "execution_count": 17,
   "id": "bf7402e6",
   "metadata": {},
   "outputs": [],
   "source": [
    "# function to receive no of wickets lost in the innings (input_wick)\n",
    "def receive_wick():\n",
    "    \n",
    "    # placing input_wick as a gobal variable\n",
    "    global input_wick\n",
    "    \n",
    "    # statement to receive input_wick\n",
    "    input_wick = int(input(\"Enter number of Wickets Lost : \"))\n",
    "    \n",
    "    # validating input_wick\n",
    "    if input_wick >= 0:\n",
    "        if input_wick < 10:\n",
    "            pass\n",
    "        elif input_wick == 10:\n",
    "            print(\">>!! Batting team All Out.\")\n",
    "            print(' ')\n",
    "            sys.exit()\n",
    "        else:\n",
    "            print(\">>!! Invalid number of wickets. Input a number from 0 to 9.\")\n",
    "            print(' ')\n",
    "            sys.exit()\n",
    "    else:\n",
    "        print(\">>!! Invalid number of wickets. Input a number from 0 to 9.\")\n",
    "        print(' ')\n",
    "        sys.exit()\n",
    "    \n",
    "    # output to receive_input function\n",
    "    return input_wick"
   ]
  },
  {
   "cell_type": "code",
   "execution_count": 18,
   "id": "3606e3b7",
   "metadata": {},
   "outputs": [],
   "source": [
    "# function to receive no of runs scored in the innings currently (input_runs)\n",
    "def receive_runs():\n",
    "    \n",
    "    # placing input_runs as a global variable\n",
    "    global input_runs\n",
    "    \n",
    "    # statement to recive input_runs\n",
    "    input_runs = int(input(\"Enter runs scored in innings currently : \"))\n",
    "    \n",
    "    # validating input_runs\n",
    "    if input_runs < 0:\n",
    "        print(\">>!! Invalid amount of runs.\")\n",
    "        print(' ')\n",
    "        sys.exit()\n",
    "    \n",
    "    # output to receive_input function\n",
    "    return input_runs"
   ]
  },
  {
   "cell_type": "code",
   "execution_count": 19,
   "id": "ffb5d7d1",
   "metadata": {},
   "outputs": [],
   "source": [
    "# function to receive no of wickets lost in the last 3 overs played in the innings (input_L3Ws)\n",
    "def receive_L3Ws():\n",
    "    \n",
    "    # placing input_L3Ws as a global variable\n",
    "    global input_L3Ws\n",
    "    \n",
    "    # statement to recive input_L8Ws\n",
    "    input_L3Ws = int(input(\"Enter number of wickets lost in previous 3 overs : \"))\n",
    "    \n",
    "    # validating input_L3Ws\n",
    "    if input_L3Ws > input_wick:\n",
    "        print(\">>!! No of Wickets lost in the last 3 overs cannot be more than the total no of Wickets lost in the innings.\")\n",
    "        print(\">>!! Input a number less than or equal to \" + str(input_wick))\n",
    "        print(' ')\n",
    "        sys.exit()\n",
    "    else:\n",
    "        pass\n",
    "    # output to receive_input function\n",
    "    return input_L3Ws"
   ]
  },
  {
   "cell_type": "code",
   "execution_count": 20,
   "id": "5b15db8e",
   "metadata": {},
   "outputs": [],
   "source": [
    "# function to receive no of runs scored in the last 3 overs played in the innings (input_L3Rs)\n",
    "def receive_L3Rs():\n",
    "    \n",
    "    # placing input_L3Rs as a global variable\n",
    "    global input_L3Rs\n",
    "    \n",
    "    # statement to receive input_L3Sc to calcualte input_L8Rs\n",
    "    input_L3Sc = int(input(\"Enter the Innings Total at the end of over no. \" + str(input_over - 3) + \" : \"))\n",
    "    \n",
    "    # validating input_L3Sc\n",
    "    if input_L3Sc > input_runs:\n",
    "        print(\">>!! No of Runs Scored in the last 3 overs cannot be more than the total no of Runs Scored in the innings.\")\n",
    "        print(\">>!! Input a number less than (or equal) to \" + str(input_runs))\n",
    "        print(' ')\n",
    "        sys.exit()\n",
    "    else:\n",
    "        pass\n",
    "    \n",
    "    # calculating input_L3Rs\n",
    "    input_L3Rs = input_runs - input_L3Sc\n",
    "    print(\">> Last 3 overs : \" + str(input_L3Rs) + \"/\" + str(input_L3Ws))\n",
    "    print(\" \")\n",
    "    \n",
    "    # output to receive_input function\n",
    "    return input_L3Rs"
   ]
  },
  {
   "cell_type": "markdown",
   "id": "ed205004",
   "metadata": {},
   "source": [
    "### Functions to render output"
   ]
  },
  {
   "cell_type": "code",
   "execution_count": 21,
   "id": "2d703597",
   "metadata": {},
   "outputs": [],
   "source": [
    "def display_outputs_i1(min_score, max_score, pred_score, err, expected_runs, proj_RunR):\n",
    "    # printing out the output predictions\n",
    "    print(' ')\n",
    "    print('>> PREDICTION : ' + str(pred_score))\n",
    "    print('>> VARIANCE IN PREDICTION : +/-' + str(int(err)))\n",
    "    print('>> RANGE OF INNINGS TOTAL : ' + str(min_score) + ' to ' + str(max_score))\n",
    "    print('>> PROJECTED RUN RATE FOR REMAINDER OF THE INNINGS : ' + str(proj_RunR))\n",
    "    \n",
    "    # calling out the next function\n",
    "    dist_vars_i1(base_data_i1,expected_runs)"
   ]
  },
  {
   "cell_type": "code",
   "execution_count": 22,
   "id": "3c15971c",
   "metadata": {},
   "outputs": [],
   "source": [
    "def dist_vars_i1(innings_data,expected_runs):\n",
    "    mu = innings_data.loc[ ((innings_data.Over == input_over) & wicks_req) ].Runs_to_be_Scored.mean()\n",
    "    sigma = innings_data.loc[ ((innings_data.Over == input_over) & wicks_req) ].Runs_to_be_Scored.std(ddof=1)\n",
    "    \n",
    "    display_dist(innings_data, expected_runs, mu, sigma)"
   ]
  },
  {
   "cell_type": "code",
   "execution_count": 23,
   "id": "ab77dd5c",
   "metadata": {},
   "outputs": [],
   "source": [
    "def display_dist(innings_data, expected_runs, mu, sigma):\n",
    "    \n",
    "    # probability of the runs_scored to be achieved\n",
    "    nn = np.arange(0 , norm.pdf(expected_runs , mu , sigma) , 0.00001)                          \n",
    "    \n",
    "    sns.set_style(\"whitegrid\")\n",
    "    plt.figure(figsize=(7.5, 4))\n",
    "    \n",
    "    sns.kdeplot(data = innings_data.loc[ (innings_data.Over == input_over) ].Runs_to_be_Scored, \n",
    "                 shade = True, label = 'Based on overs only'\n",
    "                )\n",
    "    \n",
    "    sns.kdeplot(data = innings_data.loc[ (innings_data.Over == input_over) & wicks_req ].Runs_to_be_Scored, \n",
    "                 shade = True, label='Based on overs and wickets'\n",
    "                )\n",
    "    plt.plot(expected_runs + (nn-nn) , nn ,linestyle='-')\n",
    "        \n",
    "    plt.legend()\n",
    "    plt.xlabel(\"Predicted Runs to be Scored\")"
   ]
  },
  {
   "cell_type": "markdown",
   "id": "fbc387df",
   "metadata": {},
   "source": [
    "## Run program"
   ]
  },
  {
   "cell_type": "code",
   "execution_count": 41,
   "id": "758c239c",
   "metadata": {},
   "outputs": [
    {
     "name": "stdout",
     "output_type": "stream",
     "text": [
      "Enter number of Overs completed : 19\n",
      "Enter runs scored in innings currently : 172\n",
      ">> Current Run Rate : 9.05\n",
      "Enter number of Wickets Lost : 6\n",
      "Enter number of wickets lost in previous 3 overs : 1\n",
      "Enter the Innings Total at the end of over no. 16 : 145\n",
      ">> Last 3 overs : 27/1\n",
      " \n",
      " \n",
      ">> Calculating from 10146 similar instances.\n",
      " \n",
      ">> PREDICTION : 183\n",
      ">> VARIANCE IN PREDICTION : +/-5\n",
      ">> RANGE OF INNINGS TOTAL : 178 to 188\n",
      ">> PROJECTED RUN RATE FOR REMAINDER OF THE INNINGS : 11.0\n"
     ]
    },
    {
     "data": {
      "image/png": "[encoded data removed]",
      "text/plain": [
       "<Figure size 750x400 with 1 Axes>"
      ]
     },
     "metadata": {},
     "output_type": "display_data"
    }
   ],
   "source": [
    "input_t20_i1()"
   ]
  },
  {
   "cell_type": "code",
   "execution_count": null,
   "id": "75a09958",
   "metadata": {},
   "outputs": [],
   "source": []
  }
 ],
 "metadata": {
  "kernelspec": {
   "display_name": "Python 3 (ipykernel)",
   "language": "python",
   "name": "python3"
  },
  "language_info": {
   "codemirror_mode": {
    "name": "ipython",
    "version": 3
   },
   "file_extension": ".py",
   "mimetype": "text/x-python",
   "name": "python",
   "nbconvert_exporter": "python",
   "pygments_lexer": "ipython3",
   "version": "3.9.13"
  }
 },
 "nbformat": 4,
 "nbformat_minor": 5
}
