{
 "cells": [
  {
   "cell_type": "markdown",
   "metadata": {},
   "source": [
    "# T20 Score and Win Predictor"
   ]
  },
  {
   "cell_type": "markdown",
   "metadata": {},
   "source": [
    "This program is designed to aid cricket fans make a fair estimate of how the cricket match will progress by; \n",
    "1. making an estimate on the innings total of the team batting first and,\n",
    "2. providing an indicator of how well the team batting second is chasing the target,\n",
    "\n",
    "at a midway stage of the innings."
   ]
  },
  {
   "cell_type": "markdown",
   "metadata": {},
   "source": [
    "The program uses Machine Learning Libraries such as \n",
    "1. sklearn\n",
    "2. xgboost\n",
    "to construct these estimates."
   ]
  },
  {
   "cell_type": "markdown",
   "metadata": {},
   "source": [
    "For the test data in order to train the program, ball by ball data from the matches in the Indian Premier League (IPL) from the years 2008 - 2021 May have been used. Even though most of the matches are played in India and majority of players are from a single country, I have considered using this dataset to apply for International Matches (and other league matches) for a few reasons. \n",
    "* The matches span over a decade hence we have a very large number of match and overs scenarios.\n",
    "* Though all matches are played in India (barring some in South Africa and UAE) the variety in their own pitch conditions allow all type of scenarios.\n",
    "* The IPL provides a platform for both seasoned international players as well as young inexperienced players, hence we a large number of player profiles of all types of skills.\n",
    "* The competitive nature of the IPL provides a near equal competitiveness to events such as a World Cup Tournament.\n",
    "* Non Availability of Datasets for all International Matches."
   ]
  },
  {
   "cell_type": "markdown",
   "metadata": {},
   "source": [
    "Our basic assusmption is that the run scoring will be independent of who the teams are, or grounds where they played, or when they have played these matches used in the test data"
   ]
  },
  {
   "cell_type": "markdown",
   "metadata": {},
   "source": [
    "Nevertheless, cricket is very unpredictable game which is one of the reasons it is such an enjoyable soprt to watch. Therefore more often than not match predictions will fluctuate as the match further progresses."
   ]
  },
  {
   "cell_type": "code",
   "execution_count": 9,
   "metadata": {
    "_cell_guid": "b1076dfc-b9ad-4769-8c92-a6c4dae69d19",
    "_kg_hide-input": true,
    "_uuid": "8f2839f25d086af736a60e9eeb907d3b93b6e0e5",
    "execution": {
     "iopub.execute_input": "2021-10-19T02:06:22.897933Z",
     "iopub.status.busy": "2021-10-19T02:06:22.895893Z",
     "iopub.status.idle": "2021-10-19T02:06:22.947994Z",
     "shell.execute_reply": "2021-10-19T02:06:22.947019Z",
     "shell.execute_reply.started": "2021-10-19T02:06:22.897761Z"
    }
   },
   "outputs": [],
   "source": [
    "# This Python 3 environment comes with many helpful analytics libraries installed\n",
    "# It is defined by the kaggle/python Docker image: https://github.com/kaggle/docker-python\n",
    "# For example, here's several helpful packages to load\n",
    "\n",
    "import numpy as np # linear algebra\n",
    "import pandas as pd # data processing, CSV file I/O (e.g. pd.read_csv)"
   ]
  },
  {
   "cell_type": "code",
   "execution_count": 10,
   "metadata": {
    "_kg_hide-input": true,
    "execution": {
     "iopub.execute_input": "2021-10-19T02:06:22.950889Z",
     "iopub.status.busy": "2021-10-19T02:06:22.950500Z",
     "iopub.status.idle": "2021-10-19T02:06:23.905267Z",
     "shell.execute_reply": "2021-10-19T02:06:23.903978Z",
     "shell.execute_reply.started": "2021-10-19T02:06:22.950844Z"
    }
   },
   "outputs": [],
   "source": [
    "pd.plotting.register_matplotlib_converters()\n",
    "import matplotlib.pyplot as plt\n",
    "%matplotlib inline\n",
    "import seaborn as sns\n",
    "from scipy.stats import norm\n",
    "import numpy as np\n",
    "import sys\n",
    "import math\n",
    "from pathlib import Path"
   ]
  },
  {
   "cell_type": "code",
   "execution_count": 11,
   "metadata": {
    "_kg_hide-input": true,
    "execution": {
     "iopub.execute_input": "2021-10-19T02:06:23.906671Z",
     "iopub.status.busy": "2021-10-19T02:06:23.906429Z",
     "iopub.status.idle": "2021-10-19T02:06:24.390597Z",
     "shell.execute_reply": "2021-10-19T02:06:24.389516Z",
     "shell.execute_reply.started": "2021-10-19T02:06:23.906644Z"
    }
   },
   "outputs": [],
   "source": [
    "# import machine learning libraries from sklearn (Decision Tree & Random Forest)\n",
    "from sklearn.tree import DecisionTreeRegressor\n",
    "from sklearn.ensemble import RandomForestRegressor\n",
    "\n",
    "# for splitting data into training and testing\n",
    "from sklearn.model_selection import train_test_split\n",
    "\n",
    "# for measuring the efficiency of the model\n",
    "from sklearn.metrics import mean_absolute_error\n",
    "\n",
    "# importing XGBoost API\n",
    "from xgboost import XGBRegressor\n",
    "\n",
    "# importing the cross validation library\n",
    "from sklearn.model_selection import cross_val_score\n",
    "\n",
    "# importing linear regression API\n",
    "from sklearn.linear_model import LinearRegression"
   ]
  },
  {
   "cell_type": "markdown",
   "metadata": {
    "_kg_hide-input": true
   },
   "source": [
    "## Getting the data"
   ]
  },
  {
   "cell_type": "code",
   "execution_count": 12,
   "metadata": {
    "_kg_hide-input": true,
    "execution": {
     "iopub.execute_input": "2021-10-19T02:06:24.393194Z",
     "iopub.status.busy": "2021-10-19T02:06:24.392874Z",
     "iopub.status.idle": "2021-10-19T02:06:26.647603Z",
     "shell.execute_reply": "2021-10-19T02:06:26.646853Z",
     "shell.execute_reply.started": "2021-10-19T02:06:24.393152Z"
    }
   },
   "outputs": [],
   "source": [
    "__file__ = Path.cwd()\n",
    "file_path = Path(__file__).parent.joinpath('Dataset', \"ball-by-ball-data.csv\")\n",
    "file = pd.read_csv(file_path)\n",
    "file = file.dropna()"
   ]
  },
  {
   "cell_type": "code",
   "execution_count": 13,
   "metadata": {
    "_kg_hide-input": true,
    "execution": {
     "iopub.execute_input": "2021-10-19T02:06:26.649058Z",
     "iopub.status.busy": "2021-10-19T02:06:26.648731Z",
     "iopub.status.idle": "2021-10-19T02:06:29.414892Z",
     "shell.execute_reply": "2021-10-19T02:06:29.414038Z",
     "shell.execute_reply.started": "2021-10-19T02:06:26.649032Z"
    }
   },
   "outputs": [],
   "source": [
    "# Adding a column to record a loss of a wicket\n",
    "file['dismissal_kind'] = file['dismissal_kind'].replace(' ',1)\n",
    "\n",
    "dismissals =[]\n",
    "for i in file.index: \n",
    "    if file.loc[i,'dismissal_kind'] == 1:\n",
    "        dismissals.append(0)\n",
    "    else:\n",
    "        dismissals.append(1)\n",
    "\n",
    "file['Wicket_Lost'] = dismissals"
   ]
  },
  {
   "cell_type": "markdown",
   "metadata": {
    "_kg_hide-input": true
   },
   "source": [
    "## Setting up the data"
   ]
  },
  {
   "cell_type": "markdown",
   "metadata": {
    "_kg_hide-input": true
   },
   "source": [
    "### First Innings"
   ]
  },
  {
   "cell_type": "code",
   "execution_count": 14,
   "metadata": {
    "_kg_hide-input": true,
    "execution": {
     "iopub.execute_input": "2021-10-19T02:06:29.416520Z",
     "iopub.status.busy": "2021-10-19T02:06:29.416273Z",
     "iopub.status.idle": "2021-10-19T02:06:29.445125Z",
     "shell.execute_reply": "2021-10-19T02:06:29.444119Z",
     "shell.execute_reply.started": "2021-10-19T02:06:29.416492Z"
    }
   },
   "outputs": [],
   "source": [
    "features = ['Match_id','Over','delivery','total_runs','Wicket_Lost']\n",
    "file_inn1 = file[features].loc[file.Inning==1]\n",
    "file_inn1['Inn_Score_atm'] = file_inn1.groupby('Match_id').total_runs.cumsum()\n",
    "file_inn1['Inn_Wicks_atm'] = file_inn1.groupby('Match_id').Wicket_Lost.cumsum()"
   ]
  },
  {
   "cell_type": "code",
   "execution_count": 15,
   "metadata": {
    "_kg_hide-input": true,
    "execution": {
     "iopub.execute_input": "2021-10-19T02:06:29.446627Z",
     "iopub.status.busy": "2021-10-19T02:06:29.446295Z",
     "iopub.status.idle": "2021-10-19T02:06:29.526887Z",
     "shell.execute_reply": "2021-10-19T02:06:29.526035Z",
     "shell.execute_reply.started": "2021-10-19T02:06:29.446597Z"
    }
   },
   "outputs": [],
   "source": [
    "m1_id = file_inn1.groupby(['Match_id']).Inn_Score_atm.idxmax()\n",
    "features1 = ['Match_id','Inn_Score_atm','Inn_Wicks_atm','Over']\n",
    "match_1 = file_inn1.loc[m1_id,features1]\n",
    "match_1 = match_1.rename(columns={'Inn_Score_atm': 'Final_Inning_Score'})\n",
    "match_1 = match_1.rename(columns={'Inn_Wicks_atm': 'Final_Wickets_Lost'})\n",
    "match_1 = match_1.rename(columns={'Over': 'Max_over_played'})"
   ]
  },
  {
   "cell_type": "code",
   "execution_count": 16,
   "metadata": {
    "_kg_hide-input": true,
    "execution": {
     "iopub.execute_input": "2021-10-19T02:06:29.528656Z",
     "iopub.status.busy": "2021-10-19T02:06:29.528291Z",
     "iopub.status.idle": "2021-10-19T02:06:29.537248Z",
     "shell.execute_reply": "2021-10-19T02:06:29.536608Z",
     "shell.execute_reply.started": "2021-10-19T02:06:29.528616Z"
    }
   },
   "outputs": [],
   "source": [
    "# to avoid selecting matches affected by rain and couldn't complete an ideal 20 overs\n",
    "# let's take all the matches which managed to bat until a minumum of 16 overs or lost more than 8 wickets\n",
    "\n",
    "# matches omitted from the model due to far from incomplete innings\n",
    "# match.loc[((match.Max_over_played < 16)) & (match.Final_Wickets_Lost <= 8)]\n",
    "\n",
    "match_1 = match_1.loc[((match_1.Max_over_played >= 16) & (match_1.Final_Wickets_Lost != 10)) |\n",
    "                      (match_1.Final_Wickets_Lost > 8)]"
   ]
  },
  {
   "cell_type": "code",
   "execution_count": 17,
   "metadata": {
    "_kg_hide-input": true,
    "execution": {
     "iopub.execute_input": "2021-10-19T02:06:29.538845Z",
     "iopub.status.busy": "2021-10-19T02:06:29.538166Z",
     "iopub.status.idle": "2021-10-19T02:06:30.857670Z",
     "shell.execute_reply": "2021-10-19T02:06:30.856359Z",
     "shell.execute_reply.started": "2021-10-19T02:06:29.538808Z"
    }
   },
   "outputs": [],
   "source": [
    "# obtaining details about each over in the 1st innings as file_over1 database\n",
    "\n",
    "a_id = file_inn1.groupby(['Match_id','Over']).delivery.idxmax()\n",
    "features2 = ['Match_id','Over','Inn_Score_atm','Inn_Wicks_atm']\n",
    "file_over1 = file_inn1.loc[a_id,features2]\n",
    "\n",
    "# Run Rate at the end of each over of the 1st innings\n",
    "file_over1['R_Rate_atm'] = round((file_over1.Inn_Score_atm / file_over1.Over),2)\n",
    "\n",
    "# Average Patnership Score (Total Runs Scored/(No of Wickets + 1)) at the end of each over of 1st innings\n",
    "file_over1['Ptnr_Avg_atm'] = round((file_over1.Inn_Score_atm / (file_over1.Inn_Wicks_atm+1)),2)\n",
    "\n",
    "# Average Strike Rate of Wickets falling or No of balls on average a partnership stayed \n",
    "# (Total no of balls played / (No of wickets +1))\n",
    "file_over1['Ptnr_Balls_atm'] = round(((file_over1.Over*6) / (file_over1.Inn_Wicks_atm+1)),2)\n",
    "\n",
    "# Runs and Wickets Lost in the last 3 recent overs of the innings\n",
    "file_over1['L3_Runs'] = file_over1.Inn_Score_atm - file_over1.Inn_Score_atm.shift(3)     \n",
    "file_over1['L3_Wicks'] = file_over1.Inn_Wicks_atm - file_over1.Inn_Wicks_atm.shift(3)   "
   ]
  },
  {
   "cell_type": "code",
   "execution_count": 18,
   "metadata": {
    "_kg_hide-input": true,
    "execution": {
     "iopub.execute_input": "2021-10-19T02:06:30.861785Z",
     "iopub.status.busy": "2021-10-19T02:06:30.861387Z",
     "iopub.status.idle": "2021-10-19T02:06:30.882135Z",
     "shell.execute_reply": "2021-10-19T02:06:30.881184Z",
     "shell.execute_reply.started": "2021-10-19T02:06:30.861743Z"
    }
   },
   "outputs": [],
   "source": [
    "# The final database we use for our data prediction\n",
    "\n",
    "base_data_i1 = match_1.set_index(\"Match_id\").join(file_over1.set_index(\"Match_id\"))\n",
    "base_data_i1['Runs_to_be_Scored'] = base_data_i1['Final_Inning_Score'] - base_data_i1['Inn_Score_atm']\n",
    "base_data_i1 = base_data_i1.loc[base_data_i1.Over > 3]"
   ]
  },
  {
   "cell_type": "markdown",
   "metadata": {
    "_kg_hide-input": true
   },
   "source": [
    "### 2nd Innings"
   ]
  },
  {
   "cell_type": "code",
   "execution_count": 19,
   "metadata": {
    "_kg_hide-input": true,
    "execution": {
     "iopub.execute_input": "2021-10-19T02:06:30.884186Z",
     "iopub.status.busy": "2021-10-19T02:06:30.883486Z",
     "iopub.status.idle": "2021-10-19T02:06:30.916327Z",
     "shell.execute_reply": "2021-10-19T02:06:30.915735Z",
     "shell.execute_reply.started": "2021-10-19T02:06:30.884150Z"
    }
   },
   "outputs": [],
   "source": [
    "features = ['Match_id','Over','delivery','total_runs','Wicket_Lost']\n",
    "file_inn2 = file[features].loc[file.Inning == 2]\n",
    "file_inn2['Inn_Score_atm'] = file_inn2.groupby('Match_id').total_runs.cumsum()\n",
    "file_inn2['Inn_Wicks_atm'] = file_inn2.groupby('Match_id').Wicket_Lost.cumsum()\n",
    "file_inn2 = file_inn2.sort_values(by=['Match_id','Over'])"
   ]
  },
  {
   "cell_type": "code",
   "execution_count": 20,
   "metadata": {
    "_kg_hide-input": true,
    "execution": {
     "iopub.execute_input": "2021-10-19T02:06:30.917908Z",
     "iopub.status.busy": "2021-10-19T02:06:30.917486Z",
     "iopub.status.idle": "2021-10-19T02:06:31.000460Z",
     "shell.execute_reply": "2021-10-19T02:06:30.999872Z",
     "shell.execute_reply.started": "2021-10-19T02:06:30.917861Z"
    }
   },
   "outputs": [],
   "source": [
    "m2_id = file_inn2.groupby(['Match_id']).Inn_Score_atm.idxmax()\n",
    "features1 = ['Match_id','Inn_Score_atm','Inn_Wicks_atm','Over']\n",
    "match_2 = file_inn2.loc[m2_id,features1]\n",
    "match_2 = match_2.rename(columns={'Inn_Score_atm': 'Final_Inning_Score'})\n",
    "match_2 = match_2.rename(columns={'Inn_Wicks_atm': 'Final_Wickets_Lost'})\n",
    "match_2 = match_2.rename(columns={'Over': 'Max_over_played'})\n",
    "match_2['matchid'] = match_2['Match_id']\n",
    "match_2 = match_2.sort_values(by='Match_id')"
   ]
  },
  {
   "cell_type": "code",
   "execution_count": 21,
   "metadata": {
    "_kg_hide-input": true,
    "execution": {
     "iopub.execute_input": "2021-10-19T02:06:31.002075Z",
     "iopub.status.busy": "2021-10-19T02:06:31.001473Z",
     "iopub.status.idle": "2021-10-19T02:06:31.008791Z",
     "shell.execute_reply": "2021-10-19T02:06:31.008107Z",
     "shell.execute_reply.started": "2021-10-19T02:06:31.002039Z"
    }
   },
   "outputs": [],
   "source": [
    "# target to chase for each match \n",
    "# extarct from match_1 table\n",
    "targ = pd.DataFrame({'Match_id' : match_1['Match_id'], 'Target' : (match_1['Final_Inning_Score'] + 1)})\n",
    "targ = targ.sort_values(by='Match_id')"
   ]
  },
  {
   "cell_type": "code",
   "execution_count": 22,
   "metadata": {
    "_kg_hide-input": true,
    "execution": {
     "iopub.execute_input": "2021-10-19T02:06:31.011794Z",
     "iopub.status.busy": "2021-10-19T02:06:31.009712Z",
     "iopub.status.idle": "2021-10-19T02:06:32.382264Z",
     "shell.execute_reply": "2021-10-19T02:06:32.381439Z",
     "shell.execute_reply.started": "2021-10-19T02:06:31.011726Z"
    }
   },
   "outputs": [],
   "source": [
    "# obtaining details about each over in the 2nd innings as file_over2 database\n",
    "\n",
    "b_id = file_inn1.groupby(['Match_id','Over']).delivery.idxmax()\n",
    "features2 = ['Match_id','Over','Inn_Score_atm','Inn_Wicks_atm']\n",
    "file_over2 = file_inn1.loc[b_id,features2]\n",
    "\n",
    "# Run Rate at the end of each over of the 2nd innings\n",
    "file_over2['R_Rate_atm'] = round((file_over2.Inn_Score_atm / file_over2.Over),2)\n",
    "\n",
    "# Average Patnership Score (Total Runs Scored/(No of Wickets + 1)) at the end of each over of 2nd innings\n",
    "file_over2['Ptnr_Avg_atm'] = round((file_over2.Inn_Score_atm / (file_over2.Inn_Wicks_atm+1)),2)\n",
    "\n",
    "# Average Strike Rate of Wickets falling or No of balls on average a partnership stayed \n",
    "# (Total no of balls played / (No of wickets +1))\n",
    "file_over2['Ptnr_Balls_atm'] = round(((file_over2.Over*6) / (file_over2.Inn_Wicks_atm+1)),2)\n",
    "\n",
    "# Runs and Wickets Lost in the last 3 recent overs of the innings\n",
    "file_over2['L3_Runs']  = file_over2.Inn_Score_atm - file_over2.Inn_Score_atm.shift(3)     \n",
    "file_over2['L3_Wicks'] = file_over2.Inn_Wicks_atm - file_over2.Inn_Wicks_atm.shift(3)   \n",
    "\n",
    "file_over2 = file_over2.loc[file_over2.Over > 3]"
   ]
  },
  {
   "cell_type": "code",
   "execution_count": 23,
   "metadata": {
    "_kg_hide-input": true,
    "execution": {
     "iopub.execute_input": "2021-10-19T02:06:32.383595Z",
     "iopub.status.busy": "2021-10-19T02:06:32.383354Z",
     "iopub.status.idle": "2021-10-19T02:06:32.398652Z",
     "shell.execute_reply": "2021-10-19T02:06:32.397680Z",
     "shell.execute_reply.started": "2021-10-19T02:06:32.383566Z"
    }
   },
   "outputs": [],
   "source": [
    "# combining matches and over information\n",
    "\n",
    "base_data_i2 = match_2.set_index(\"Match_id\").join(file_over2.set_index(\"Match_id\"))\n",
    "\n",
    "# combining the target into the inn2 data\n",
    "\n",
    "base_data_i2 = base_data_i2.set_index(\"matchid\").join(targ.set_index(\"Match_id\"))\n",
    "base_data_i2 = base_data_i2.rename_axis(\"Match_id\", axis='rows')"
   ]
  },
  {
   "cell_type": "code",
   "execution_count": 24,
   "metadata": {
    "_kg_hide-input": true,
    "execution": {
     "iopub.execute_input": "2021-10-19T02:06:32.400562Z",
     "iopub.status.busy": "2021-10-19T02:06:32.400223Z",
     "iopub.status.idle": "2021-10-19T02:06:32.412634Z",
     "shell.execute_reply": "2021-10-19T02:06:32.411836Z",
     "shell.execute_reply.started": "2021-10-19T02:06:32.400504Z"
    }
   },
   "outputs": [],
   "source": [
    "# obtaining information based on Target and Required Rate to win\n",
    "\n",
    "base_data_i2['Runs_to_Target'] = base_data_i2['Target'] - base_data_i2['Inn_Score_atm']\n",
    "base_data_i2['Required_Rate'] = round((base_data_i2['Runs_to_Target'] / (20 - base_data_i2['Over'])),2)\n",
    "\n",
    "# information based runs scored\n",
    "\n",
    "base_data_i2['Runs_to_be_Scored'] = base_data_i2['Final_Inning_Score'] - base_data_i2['Inn_Score_atm']"
   ]
  },
  {
   "cell_type": "code",
   "execution_count": 25,
   "metadata": {
    "_kg_hide-input": true,
    "execution": {
     "iopub.execute_input": "2021-10-19T02:06:32.415082Z",
     "iopub.status.busy": "2021-10-19T02:06:32.414105Z",
     "iopub.status.idle": "2021-10-19T02:06:32.429445Z",
     "shell.execute_reply": "2021-10-19T02:06:32.428741Z",
     "shell.execute_reply.started": "2021-10-19T02:06:32.415037Z"
    }
   },
   "outputs": [],
   "source": [
    "# limits of data to be used \n",
    "\n",
    "base_data_i2 = base_data_i2.loc[base_data_i2.Over > 3]\n",
    "base_data_i2 = base_data_i2.loc[base_data_i2.Over < 20]\n",
    "base_data_i2 = base_data_i2.loc[base_data_i2.Runs_to_Target > 0]\n",
    "base_data_i2 = base_data_i2.rename_axis(\"Match_id\", axis='rows')"
   ]
  },
  {
   "cell_type": "markdown",
   "metadata": {
    "_kg_hide-input": true
   },
   "source": [
    "## Making the prediction program to predict final score at end of 1st innings"
   ]
  },
  {
   "cell_type": "code",
   "execution_count": 26,
   "metadata": {
    "_kg_hide-input": true,
    "execution": {
     "iopub.execute_input": "2021-10-19T02:06:32.433208Z",
     "iopub.status.busy": "2021-10-19T02:06:32.432805Z",
     "iopub.status.idle": "2021-10-19T02:06:32.440269Z",
     "shell.execute_reply": "2021-10-19T02:06:32.439671Z",
     "shell.execute_reply.started": "2021-10-19T02:06:32.433178Z"
    }
   },
   "outputs": [],
   "source": [
    "# function to obatin inputs for calculation\n",
    "def input_t20_i1():\n",
    "    \n",
    "    global input_data\n",
    "    \n",
    "    # obtaining inputs for the predictor\n",
    "    receive_over_t20()         # no of overs played yet\n",
    "    receive_runs()             # no of runs scored in the innings yet\n",
    "    \n",
    "    # calculating other variables such as Run Rate(input_RunR) to displayed to user\n",
    "    input_RunR = round((input_runs/input_over),2)\n",
    "    print(\">> Current Run Rate : \" + str(input_RunR) )\n",
    "    \n",
    "    receive_wick()         # no of wickets lost in the innings yet\n",
    "    receive_L3Ws()         # no of wickets lost in the last 3 overs\n",
    "    receive_L3Rs()         # no of runs scores in the last 3 overs\n",
    "    \n",
    "    # calculating other variables - Partnership Average(input_pAvg)\n",
    "    input_PAvg = round((input_runs/(input_wick + 1)),2)\n",
    "    \n",
    "    # placing input data into a dataframe\n",
    "    input_data = pd.DataFrame( {'Over' : [input_over] , 'Inn_Score_atm' : [input_runs] , 'Inn_Wicks_atm': [input_wick],\n",
    "                               'R_Rate_atm': [input_RunR] ,  'Ptnr_Avg_atm': [input_PAvg] , 'L3_Wicks': [input_L3Ws],\n",
    "                               'L3_Runs': [input_L3Rs] })\n",
    "    \n",
    "    # calling out the next function to obtain data from base_data\n",
    "    # using input_over & input_wick for the inputs\n",
    "    obtain_data_t20_i1(input_over, input_wick)"
   ]
  },
  {
   "cell_type": "code",
   "execution_count": 27,
   "metadata": {
    "_kg_hide-input": true,
    "execution": {
     "iopub.execute_input": "2021-10-19T02:06:32.442288Z",
     "iopub.status.busy": "2021-10-19T02:06:32.441494Z",
     "iopub.status.idle": "2021-10-19T02:06:32.458346Z",
     "shell.execute_reply": "2021-10-19T02:06:32.457443Z",
     "shell.execute_reply.started": "2021-10-19T02:06:32.442251Z"
    }
   },
   "outputs": [],
   "source": [
    "# function to receive no of overs played in the innings (input_over)\n",
    "def receive_over_t20():\n",
    "    \n",
    "    # placing input_over as a gobal variable\n",
    "    global input_over\n",
    "    \n",
    "    # statement to receive input_over \n",
    "    input_over = int(input(\"Enter number of Overs completed : \"))\n",
    "    \n",
    "    # validating input_over variable \n",
    "    if input_over > 0:\n",
    "        if input_over >= 5:\n",
    "            if input_over < 20:\n",
    "                pass\n",
    "            elif input_over == 20:\n",
    "                print(\">>!! Innings completed. Input a number for overs from 5 to 19.\")\n",
    "                print(' ')\n",
    "                sys.exit()\n",
    "            else:\n",
    "                print(\">>!! Invalid over. Input a number for overs from 5 to 19.\")\n",
    "                print(' ')\n",
    "                sys.exit()\n",
    "        else:\n",
    "            print(\">>!! Over inputted is to early to make a prediction. Reinput data from the 5th over onwards\")\n",
    "            print(' ')\n",
    "            sys.exit()\n",
    "    else:\n",
    "        print(\">>!! Invalid over. Input a number for overs from 5 to 19.\")\n",
    "        print(' ')\n",
    "        sys.exit()\n",
    "        \n",
    "    # output to receive_input function\n",
    "    return input_over"
   ]
  },
  {
   "cell_type": "code",
   "execution_count": 28,
   "metadata": {
    "_kg_hide-input": true,
    "execution": {
     "iopub.execute_input": "2021-10-19T02:06:32.460578Z",
     "iopub.status.busy": "2021-10-19T02:06:32.459716Z",
     "iopub.status.idle": "2021-10-19T02:06:32.475306Z",
     "shell.execute_reply": "2021-10-19T02:06:32.474642Z",
     "shell.execute_reply.started": "2021-10-19T02:06:32.460520Z"
    }
   },
   "outputs": [],
   "source": [
    "# function to receive no of wickets lost in the innings (input_wick)\n",
    "def receive_wick():\n",
    "    \n",
    "    # placing input_wick as a gobal variable\n",
    "    global input_wick\n",
    "    \n",
    "    # statement to receive input_wick\n",
    "    input_wick = int(input(\"Enter number of Wickets Lost : \"))\n",
    "    \n",
    "    # validating input_wick\n",
    "    if input_wick >= 0:\n",
    "        if input_wick < 10:\n",
    "            pass\n",
    "        elif input_wick == 10:\n",
    "            print(\">>!! Batting team All Out.\")\n",
    "            print(' ')\n",
    "            sys.exit()\n",
    "        else:\n",
    "            print(\">>!! Invalid number of wickets. Input a number from 0 to 9.\")\n",
    "            print(' ')\n",
    "            sys.exit()\n",
    "    else:\n",
    "        print(\">>!! Invalid number of wickets. Input a number from 0 to 9.\")\n",
    "        print(' ')\n",
    "        sys.exit()\n",
    "    \n",
    "    # output to receive_input function\n",
    "    return input_wick"
   ]
  },
  {
   "cell_type": "code",
   "execution_count": 29,
   "metadata": {
    "_kg_hide-input": true,
    "execution": {
     "iopub.execute_input": "2021-10-19T02:06:32.477381Z",
     "iopub.status.busy": "2021-10-19T02:06:32.476726Z",
     "iopub.status.idle": "2021-10-19T02:06:32.489486Z",
     "shell.execute_reply": "2021-10-19T02:06:32.488734Z",
     "shell.execute_reply.started": "2021-10-19T02:06:32.477345Z"
    }
   },
   "outputs": [],
   "source": [
    "# function to receive no of runs scored in the innings currently (input_runs)\n",
    "def receive_runs():\n",
    "    \n",
    "    # placing input_runs as a global variable\n",
    "    global input_runs\n",
    "    \n",
    "    # statement to recive input_runs\n",
    "    input_runs = int(input(\"Enter runs scored in innings currently : \"))\n",
    "    \n",
    "    # validating input_runs\n",
    "    if input_runs < 0:\n",
    "        print(\">>!! Invalid amount of runs.\")\n",
    "        print(' ')\n",
    "        sys.exit()\n",
    "    \n",
    "    # output to receive_input function\n",
    "    return input_runs"
   ]
  },
  {
   "cell_type": "code",
   "execution_count": 30,
   "metadata": {
    "_kg_hide-input": true,
    "execution": {
     "iopub.execute_input": "2021-10-19T02:06:32.491551Z",
     "iopub.status.busy": "2021-10-19T02:06:32.490789Z",
     "iopub.status.idle": "2021-10-19T02:06:32.508705Z",
     "shell.execute_reply": "2021-10-19T02:06:32.507905Z",
     "shell.execute_reply.started": "2021-10-19T02:06:32.491489Z"
    }
   },
   "outputs": [],
   "source": [
    "# function to receive no of wickets lost in the last 3 overs played in the innings (input_L3Ws)\n",
    "def receive_L3Ws():\n",
    "    \n",
    "    # placing input_L3Ws as a global variable\n",
    "    global input_L3Ws\n",
    "    \n",
    "    # statement to recive input_L8Ws\n",
    "    input_L3Ws = int(input(\"Enter number of wickets lost in previous 3 overs : \"))\n",
    "    \n",
    "    # validating input_L3Ws\n",
    "    if input_L3Ws > input_wick:\n",
    "        print(\">>!! No of Wickets lost in the last 3 overs cannot be more than the total no of Wickets lost in the innings.\")\n",
    "        print(\">>!! Input a number less than or equal to \" + str(input_wick))\n",
    "        print(' ')\n",
    "        sys.exit()\n",
    "    else:\n",
    "        pass\n",
    "    # output to receive_input function\n",
    "    return input_L3Ws"
   ]
  },
  {
   "cell_type": "code",
   "execution_count": 31,
   "metadata": {
    "_kg_hide-input": true,
    "execution": {
     "iopub.execute_input": "2021-10-19T02:06:32.510790Z",
     "iopub.status.busy": "2021-10-19T02:06:32.510037Z",
     "iopub.status.idle": "2021-10-19T02:06:32.521835Z",
     "shell.execute_reply": "2021-10-19T02:06:32.520705Z",
     "shell.execute_reply.started": "2021-10-19T02:06:32.510747Z"
    }
   },
   "outputs": [],
   "source": [
    "# function to receive no of runs scored in the last 3 overs played in the innings (input_L3Rs)\n",
    "def receive_L3Rs():\n",
    "    \n",
    "    # placing input_L3Rs as a global variable\n",
    "    global input_L3Rs\n",
    "    \n",
    "    # statement to receive input_L3Sc to calcualte input_L8Rs\n",
    "    input_L3Sc = int(input(\"Enter the Innings Total at the end of over no. \" + str(input_over - 3) + \" : \"))\n",
    "    \n",
    "    # validating input_L3Sc\n",
    "    if input_L3Sc > input_runs:\n",
    "        print(\">>!! No of Runs Scored in the last 3 overs cannot be more than the total no of Runs Scored in the innings.\")\n",
    "        print(\">>!! Input a number less than (or equal) to \" + str(input_runs))\n",
    "        print(' ')\n",
    "        sys.exit()\n",
    "    else:\n",
    "        pass\n",
    "    \n",
    "    # calculating input_L3Rs\n",
    "    input_L3Rs = input_runs - input_L3Sc\n",
    "    print(\">> Last 3 overs : \" + str(input_L3Rs) + \"/\" + str(input_L3Ws))\n",
    "    print(\" \")\n",
    "    \n",
    "    # output to receive_input function\n",
    "    return input_L3Rs"
   ]
  },
  {
   "cell_type": "code",
   "execution_count": 32,
   "metadata": {
    "_kg_hide-input": true,
    "execution": {
     "iopub.execute_input": "2021-10-19T02:06:32.523563Z",
     "iopub.status.busy": "2021-10-19T02:06:32.523321Z",
     "iopub.status.idle": "2021-10-19T02:06:32.540709Z",
     "shell.execute_reply": "2021-10-19T02:06:32.539572Z",
     "shell.execute_reply.started": "2021-10-19T02:06:32.523514Z"
    }
   },
   "outputs": [],
   "source": [
    "def obtain_data_t20_i1(input_over, input_wick):\n",
    "    global overs_req\n",
    "    global wicks_req\n",
    "    global data_base\n",
    "    \n",
    "    # our base dataframe is base_data_i1\n",
    "    \n",
    "    # required rows of data to model fromwhich are played within +/- 3 overs of the input_over\n",
    "    overs_req = (\n",
    "                 (base_data_i1.Over == (input_over-3)) | (base_data_i1.Over == (input_over-2)) | \n",
    "                 (base_data_i1.Over == (input_over-1)) | (base_data_i1.Over == (input_over+0)) | \n",
    "                 (base_data_i1.Over == (input_over+1)) | (base_data_i1.Over == (input_over+2)) | \n",
    "                 (base_data_i1.Over == (input_over+3))\n",
    "                )\n",
    "    \n",
    "    # required rows of data to model from which are played having lost +/- 1 wicket of the input_wick\n",
    "    wicks_req = ((base_data_i1.Inn_Wicks_atm == (input_wick-1)) | (base_data_i1.Inn_Wicks_atm == (input_wick)) |\n",
    "                 (base_data_i1.Inn_Wicks_atm == (input_wick+1))\n",
    "                )\n",
    "    # required rows of data to model from which the same number of wickets have been lost in the preceeding 3 overs\n",
    "    L3WLs_req = base_data_i1.L3_Wicks == input_L3Ws\n",
    "    \n",
    "    # required rows of data to model from which the similar run scoring in the preceeding 3 overs\n",
    "    L3RSc_req = ((base_data_i1.L3_Runs == (input_L3Rs-3)) | (base_data_i1.L3_Runs == (input_L3Rs-2)) |\n",
    "                 (base_data_i1.L3_Runs == (input_L3Rs-1)) | (base_data_i1.L3_Runs == (input_L3Rs-0)) |\n",
    "                 (base_data_i1.L3_Runs == (input_L3Rs+1)) | (base_data_i1.L3_Runs == (input_L3Rs+2)) |\n",
    "                 (base_data_i1.L3_Runs == (input_L3Rs+3))\n",
    "                )\n",
    "    \n",
    "    # extracting required data from the either of the two criteria above\n",
    "    data_base = base_data_i1.loc[ overs_req | wicks_req | L3WLs_req | L3RSc_req ] \n",
    "    \n",
    "    print(' ')\n",
    "    print('>> Calculating from ' + str(data_base.Over.count()) + ' similar instances.')\n",
    "    \n",
    "    #calling out the next function\n",
    "    select_features_i1(data_base)"
   ]
  },
  {
   "cell_type": "code",
   "execution_count": 33,
   "metadata": {
    "_kg_hide-input": true,
    "execution": {
     "iopub.execute_input": "2021-10-19T02:06:32.543093Z",
     "iopub.status.busy": "2021-10-19T02:06:32.541852Z",
     "iopub.status.idle": "2021-10-19T02:06:32.564398Z",
     "shell.execute_reply": "2021-10-19T02:06:32.563588Z",
     "shell.execute_reply.started": "2021-10-19T02:06:32.543047Z"
    }
   },
   "outputs": [],
   "source": [
    "def select_features_i1(data_base):\n",
    "    \n",
    "    # independent and input variables features\n",
    "    x_features = ['Over','Inn_Score_atm','Inn_Wicks_atm','R_Rate_atm','Ptnr_Avg_atm','L3_Wicks','L3_Runs']\n",
    "    X = data_base[x_features]\n",
    "    \n",
    "    # target variable \n",
    "    y = data_base.Runs_to_be_Scored\n",
    "    \n",
    "    #calling out the next function\n",
    "    XGB_model = data_modelling(X,y)\n",
    "    \n",
    "    #calling out the next function\n",
    "    (expected_runs, err) = obtain_error(XGB_model,X,y)\n",
    "    \n",
    "    #calling out next function\n",
    "    design_output_i1(expected_runs,err)"
   ]
  },
  {
   "cell_type": "code",
   "execution_count": 34,
   "metadata": {
    "_kg_hide-input": true,
    "execution": {
     "iopub.execute_input": "2021-10-19T02:06:32.566266Z",
     "iopub.status.busy": "2021-10-19T02:06:32.565801Z",
     "iopub.status.idle": "2021-10-19T02:06:32.580282Z",
     "shell.execute_reply": "2021-10-19T02:06:32.579633Z",
     "shell.execute_reply.started": "2021-10-19T02:06:32.566227Z"
    }
   },
   "outputs": [],
   "source": [
    "def data_modelling(X,y):\n",
    "    \n",
    "    # programming the model\n",
    "    XGB_model = XGBRegressor(n_estimators = 400, learning_rate=0.05)\n",
    "    XGB_model.fit(X,y)\n",
    "    return XGB_model"
   ]
  },
  {
   "cell_type": "code",
   "execution_count": 35,
   "metadata": {
    "_kg_hide-input": true,
    "execution": {
     "iopub.execute_input": "2021-10-19T02:41:46.059438Z",
     "iopub.status.busy": "2021-10-19T02:41:46.058371Z",
     "iopub.status.idle": "2021-10-19T02:41:46.067857Z",
     "shell.execute_reply": "2021-10-19T02:41:46.066858Z",
     "shell.execute_reply.started": "2021-10-19T02:41:46.059403Z"
    }
   },
   "outputs": [],
   "source": [
    "def obtain_error(XGB_model,X,y):\n",
    "    # obatining the predictions\n",
    "    pred_y = XGB_model.predict(X)\n",
    "    \n",
    "    # error measured by mean_absolute_error according to predicted and actual target values\n",
    "    err = int(mean_absolute_error(y, pred_y))\n",
    "    \n",
    "    # adjusting error depending on over                                                   # this was obtained by trial and\n",
    "    err_adj_1 = math.log(-27+50,(math.e**math.sqrt(12)))                                     # error\n",
    "    \n",
    "    # adjusting error depending on prediction of score\n",
    "    expected_runs = int(XGB_model.predict(input_data))\n",
    "    expected_percent = round( (abs(expected_runs) / (input_runs+expected_runs) ),2)*100.\n",
    "    err_adj_2 = math.log(expected_percent,(math.e**math.sqrt(16)))\n",
    "    \n",
    "    # error value\n",
    "    err = err * (err_adj_1 * err_adj_2) ** (1/2)\n",
    "    err = int(err)\n",
    "    return expected_runs,err"
   ]
  },
  {
   "cell_type": "code",
   "execution_count": 36,
   "metadata": {
    "_kg_hide-input": true,
    "execution": {
     "iopub.execute_input": "2021-10-19T02:06:32.599460Z",
     "iopub.status.busy": "2021-10-19T02:06:32.598714Z",
     "iopub.status.idle": "2021-10-19T02:06:32.606367Z",
     "shell.execute_reply": "2021-10-19T02:06:32.605739Z",
     "shell.execute_reply.started": "2021-10-19T02:06:32.599414Z"
    }
   },
   "outputs": [],
   "source": [
    "def design_output_i1(expected_runs,err):\n",
    "    \n",
    "    # developing outputs\n",
    "    pred_score = input_runs + expected_runs\n",
    "    max_score  = int(pred_score + err)\n",
    "    min_score  = int(pred_score - err)\n",
    "    proj_RunR  = round((expected_runs/(20-input_over)),2)\n",
    "    \n",
    "    if min_score < input_runs:\n",
    "        min_score = min_score_adj(min_score)\n",
    "    else:\n",
    "        pass\n",
    "    display_outputs_i1(min_score, max_score, pred_score, err, expected_runs, proj_RunR)"
   ]
  },
  {
   "cell_type": "code",
   "execution_count": 37,
   "metadata": {
    "_kg_hide-input": true,
    "execution": {
     "iopub.execute_input": "2021-10-19T02:06:32.607952Z",
     "iopub.status.busy": "2021-10-19T02:06:32.607528Z",
     "iopub.status.idle": "2021-10-19T02:06:32.619266Z",
     "shell.execute_reply": "2021-10-19T02:06:32.618664Z",
     "shell.execute_reply.started": "2021-10-19T02:06:32.607923Z"
    }
   },
   "outputs": [],
   "source": [
    "def min_score_adj(min_score):\n",
    "    min_score = input_runs + 5\n",
    "    return min_score"
   ]
  },
  {
   "cell_type": "code",
   "execution_count": 38,
   "metadata": {
    "_kg_hide-input": true,
    "execution": {
     "iopub.execute_input": "2021-10-19T02:06:32.620767Z",
     "iopub.status.busy": "2021-10-19T02:06:32.620389Z",
     "iopub.status.idle": "2021-10-19T02:06:32.636057Z",
     "shell.execute_reply": "2021-10-19T02:06:32.635114Z",
     "shell.execute_reply.started": "2021-10-19T02:06:32.620732Z"
    }
   },
   "outputs": [],
   "source": [
    "def display_outputs_i1(min_score, max_score, pred_score, err, expected_runs, proj_RunR):\n",
    "    # printing out the output predictions\n",
    "    print(' ')\n",
    "    print('>> PREDICTION : ' + str(pred_score))\n",
    "    print('>> VARIANCE IN PREDICTION : +/-' + str(int(err)))\n",
    "    print('>> RANGE OF INNINGS TOTAL : ' + str(min_score) + ' to ' + str(max_score))\n",
    "    print('>> PROJECTED RUN RATE FOR REMAINDER OF THE INNINGS : ' + str(proj_RunR))\n",
    "    \n",
    "    # calling out the next function\n",
    "    dist_vars_i1(base_data_i1,expected_runs)"
   ]
  },
  {
   "cell_type": "code",
   "execution_count": 39,
   "metadata": {
    "_kg_hide-input": true,
    "execution": {
     "iopub.execute_input": "2021-10-19T02:06:32.638416Z",
     "iopub.status.busy": "2021-10-19T02:06:32.637756Z",
     "iopub.status.idle": "2021-10-19T02:06:32.650172Z",
     "shell.execute_reply": "2021-10-19T02:06:32.649295Z",
     "shell.execute_reply.started": "2021-10-19T02:06:32.638373Z"
    }
   },
   "outputs": [],
   "source": [
    "def dist_vars_i1(innings_data,expected_runs):\n",
    "    mu = innings_data.loc[ ((innings_data.Over == input_over) & wicks_req) ].Runs_to_be_Scored.mean()\n",
    "    sigma = innings_data.loc[ ((innings_data.Over == input_over) & wicks_req) ].Runs_to_be_Scored.std(ddof=1)\n",
    "    \n",
    "    display_dist(innings_data, expected_runs, mu, sigma)"
   ]
  },
  {
   "cell_type": "code",
   "execution_count": 40,
   "metadata": {
    "_kg_hide-input": true,
    "execution": {
     "iopub.execute_input": "2021-10-19T02:06:32.652015Z",
     "iopub.status.busy": "2021-10-19T02:06:32.651697Z",
     "iopub.status.idle": "2021-10-19T02:06:32.664947Z",
     "shell.execute_reply": "2021-10-19T02:06:32.663869Z",
     "shell.execute_reply.started": "2021-10-19T02:06:32.651975Z"
    }
   },
   "outputs": [],
   "source": [
    "def display_dist(innings_data, expected_runs, mu, sigma):\n",
    "    \n",
    "    # probability of the runs_scored to be achieved\n",
    "    nn = np.arange(0 , norm.pdf(expected_runs , mu , sigma) , 0.00001)                          \n",
    "    \n",
    "    sns.set_style(\"whitegrid\")\n",
    "    plt.figure(figsize=(7.5, 4))\n",
    "    \n",
    "    sns.kdeplot(data = innings_data.loc[ (innings_data.Over == input_over) ].Runs_to_be_Scored, \n",
    "                 shade = True, label = 'Based on overs only'\n",
    "                )\n",
    "    \n",
    "    sns.kdeplot(data = innings_data.loc[ (innings_data.Over == input_over) & wicks_req ].Runs_to_be_Scored, \n",
    "                 shade = True, label='Based on overs and wickets'\n",
    "                )\n",
    "    plt.plot(expected_runs + (nn-nn) , nn ,linestyle='-')\n",
    "        \n",
    "    plt.legend()\n",
    "    plt.xlabel(\"Predicted Runs to be Scored\")"
   ]
  },
  {
   "cell_type": "markdown",
   "metadata": {
    "_kg_hide-input": true
   },
   "source": [
    "## Making the prediction program to predict probability of chasing the target in 2nd innings"
   ]
  },
  {
   "cell_type": "code",
   "execution_count": 41,
   "metadata": {
    "_kg_hide-input": true,
    "execution": {
     "iopub.execute_input": "2021-10-19T02:06:32.666755Z",
     "iopub.status.busy": "2021-10-19T02:06:32.666383Z",
     "iopub.status.idle": "2021-10-19T02:06:32.678885Z",
     "shell.execute_reply": "2021-10-19T02:06:32.678025Z",
     "shell.execute_reply.started": "2021-10-19T02:06:32.666720Z"
    }
   },
   "outputs": [],
   "source": [
    "# function to obatin inputs for calculation\n",
    "def input_t20_i2():\n",
    "    \n",
    "    global input_data\n",
    "    \n",
    "    # obtaining inputs for the predictor\n",
    "    receive_over_t20()         # no of overs played yet\n",
    "    receive_runs()             # no of runs scored in the innings yet\n",
    "    \n",
    "    # calculating other variables such as Run Rate(input_RunR) to displayed to user\n",
    "    input_RunR = round((input_runs/input_over),2)\n",
    "    print(\">> Current Run Rate : \" + str(input_RunR) )\n",
    "    \n",
    "    receive_wick()         # no of wickets lost in the innings yet\n",
    "    receive_L3Ws()         # no of wickets lost in the last 3 overs\n",
    "    receive_L3Rs()         # no of runs scores in the last 3 overs\n",
    "    receive_targ()         # target to be chased\n",
    "      \n",
    "    # calculating other variables - Partnership Average(input_pAvg)\n",
    "    input_PAvg = round((input_runs/(input_wick + 1)),2)\n",
    "    \n",
    "    # placing input data into a dataframe\n",
    "    input_data = pd.DataFrame( {'Over' : [input_over] , 'Inn_Score_atm' : [input_runs] , 'Inn_Wicks_atm': [input_wick],\n",
    "                               'R_Rate_atm': [input_RunR] ,  'Ptnr_Avg_atm': [input_PAvg] , 'L3_Wicks': [input_L3Ws],\n",
    "                               'L3_Runs': [input_L3Rs], 'Required_Rate': [input_ReqR], 'Target': [input_targ] })\n",
    "    \n",
    "    # when the target is close to be chased or trivial situations\n",
    "    # we consider a chase is trivial when there is less than or equal to 4 runs per over is required to win\n",
    "    if input_ReqR <= 4:\n",
    "        print(\"Run-Chase is Trivial\")\n",
    "        # os._exit(1)\n",
    "    else:\n",
    "        # calling out the next function to obtain data from base_data\n",
    "        # using input_over & input_wick for the inputs\n",
    "        obtain_data_t20_i2(input_over, input_wick)"
   ]
  },
  {
   "cell_type": "code",
   "execution_count": 42,
   "metadata": {
    "_kg_hide-input": true,
    "execution": {
     "iopub.execute_input": "2021-10-19T02:06:32.680249Z",
     "iopub.status.busy": "2021-10-19T02:06:32.680027Z",
     "iopub.status.idle": "2021-10-19T02:06:32.695411Z",
     "shell.execute_reply": "2021-10-19T02:06:32.694443Z",
     "shell.execute_reply.started": "2021-10-19T02:06:32.680223Z"
    }
   },
   "outputs": [],
   "source": [
    "def receive_targ():\n",
    "    global input_targ\n",
    "    global input_ReqR\n",
    "    \n",
    "    input_targ = int(input(\"Enter target to be chased : \"))\n",
    "    if input_targ < 0:\n",
    "        print(\">>!! Invalid amount of runs.\")\n",
    "        print(' ')\n",
    "        sys.exit()\n",
    "    if input_runs >= input_targ :\n",
    "        print(\">>!! Target Score has been chased.\")\n",
    "        print(' ')\n",
    "        sys.exit()\n",
    "    print(' ')\n",
    "    input_ReqR = round(((input_targ - input_runs)/(20 - input_over)),2)\n",
    "    \n",
    "    # printing out the required rates to win\n",
    "    print(\">> To win need \" +\n",
    "          str(input_targ - input_runs) + \n",
    "          \" from \" + str(6*(20 - input_over)) + \n",
    "          \" balls at \" + \n",
    "          str(round(((input_targ - input_runs)/(20 - input_over)),2)) +\n",
    "          \" runs per over.\")\n",
    "    \n",
    "    return input_targ, input_ReqR"
   ]
  },
  {
   "cell_type": "code",
   "execution_count": 43,
   "metadata": {
    "_kg_hide-input": true,
    "execution": {
     "iopub.execute_input": "2021-10-19T02:06:32.697466Z",
     "iopub.status.busy": "2021-10-19T02:06:32.696854Z",
     "iopub.status.idle": "2021-10-19T02:06:32.712555Z",
     "shell.execute_reply": "2021-10-19T02:06:32.711651Z",
     "shell.execute_reply.started": "2021-10-19T02:06:32.697431Z"
    }
   },
   "outputs": [],
   "source": [
    "def obtain_data_t20_i2(input_over, input_wick):\n",
    "    global overs_req\n",
    "    global wicks_req\n",
    "    global ReqRR_req\n",
    "    global data_base\n",
    "    \n",
    "    # our base dataframe is base_data_i2\n",
    "    \n",
    "    # required rows of data to model fromwhich are played within +/- 3 overs of the input_over\n",
    "    overs_req = (\n",
    "                 (base_data_i2.Over == (input_over-3)) | (base_data_i2.Over == (input_over-2)) | \n",
    "                 (base_data_i2.Over == (input_over-1)) | (base_data_i2.Over == (input_over+0)) | \n",
    "                 (base_data_i2.Over == (input_over+1)) | (base_data_i2.Over == (input_over+2)) | \n",
    "                 (base_data_i2.Over == (input_over+3))\n",
    "                )\n",
    "    \n",
    "    # required rows of data to model from which are played having lost +/- 1 wicket of the input_wick\n",
    "    wicks_req = ((base_data_i2.Inn_Wicks_atm == (input_wick-1)) | (base_data_i2.Inn_Wicks_atm == (input_wick)) |\n",
    "                 (base_data_i2.Inn_Wicks_atm == (input_wick+1))\n",
    "                )\n",
    "    # required rows of data to model from which the same number of wickets have been lost in the preceeding 3 overs\n",
    "    L3WLs_req = base_data_i2.L3_Wicks == input_L3Ws\n",
    "    \n",
    "    # required rows of data to model from which the similar run scoring in the preceeding 3 overs\n",
    "    L3RSc_req = ((base_data_i2.L3_Runs == (input_L3Rs-3)) | (base_data_i2.L3_Runs == (input_L3Rs-2)) |\n",
    "                 (base_data_i2.L3_Runs == (input_L3Rs-1)) | (base_data_i2.L3_Runs == (input_L3Rs-0)) |\n",
    "                 (base_data_i2.L3_Runs == (input_L3Rs+1)) | (base_data_i2.L3_Runs == (input_L3Rs+2)) |\n",
    "                 (base_data_i2.L3_Runs == (input_L3Rs+3))\n",
    "                )\n",
    "    \n",
    "   # required rows of data to model from which the similar Required Run Rate\n",
    "    ReqRR_req = ((base_data_i2.Required_Rate > (input_ReqR-1)) & (base_data_i2.Required_Rate < (input_ReqR+1)))\n",
    "    \n",
    "    # required rows of data to model from which the similar Targets were chased\n",
    "    targ_req = ((base_data_i2.Target > (input_targ-20)) & (base_data_i2.Target < (input_targ+20)))\n",
    "    \n",
    "    # extracting required data from the either of the two criteria above\n",
    "    data_base = base_data_i2.loc[ overs_req | wicks_req | L3WLs_req | L3RSc_req | ReqRR_req | targ_req ] \n",
    "    \n",
    "    print(' ')\n",
    "    print('>> Calculating from ' + str(data_base.Over.count()) + ' similar instances.')\n",
    "    \n",
    "    #calling out the next function\n",
    "    select_features_i2(data_base)"
   ]
  },
  {
   "cell_type": "code",
   "execution_count": 44,
   "metadata": {
    "_kg_hide-input": true,
    "execution": {
     "iopub.execute_input": "2021-10-19T02:06:32.713987Z",
     "iopub.status.busy": "2021-10-19T02:06:32.713657Z",
     "iopub.status.idle": "2021-10-19T02:06:32.728012Z",
     "shell.execute_reply": "2021-10-19T02:06:32.727118Z",
     "shell.execute_reply.started": "2021-10-19T02:06:32.713960Z"
    }
   },
   "outputs": [],
   "source": [
    "def select_features_i2(data_base):\n",
    "    \n",
    "    # independent and input variables features\n",
    "    x_features = ['Over', 'Inn_Score_atm', 'Inn_Wicks_atm', 'R_Rate_atm', 'Ptnr_Avg_atm', 'L3_Wicks', 'L3_Runs',\n",
    "                  'Required_Rate','Target' ]\n",
    "    X = data_base[x_features]\n",
    "    \n",
    "    # target variable \n",
    "    y = data_base.Runs_to_be_Scored\n",
    "    \n",
    "    #calling out the next function\n",
    "    XGB_model = data_modelling(X,y)\n",
    "    \n",
    "    #calling out the next function\n",
    "    (expected_runs, err) = obtain_error(XGB_model,X,y)\n",
    "    \n",
    "    #calling out next function\n",
    "    design_output_i2(expected_runs,err)"
   ]
  },
  {
   "cell_type": "code",
   "execution_count": 45,
   "metadata": {
    "_kg_hide-input": true,
    "execution": {
     "iopub.execute_input": "2021-10-19T02:43:14.388251Z",
     "iopub.status.busy": "2021-10-19T02:43:14.387501Z",
     "iopub.status.idle": "2021-10-19T02:43:14.396293Z",
     "shell.execute_reply": "2021-10-19T02:43:14.395208Z",
     "shell.execute_reply.started": "2021-10-19T02:43:14.388175Z"
    }
   },
   "outputs": [],
   "source": [
    "def design_output_i2(expected_runs,err):\n",
    "    \n",
    "    # developing outputs\n",
    "    pred_score = input_runs + expected_runs\n",
    "    max_score = int(pred_score + err)\n",
    "    min_score = int(pred_score - err)\n",
    "    proj_RunR = round((expected_runs/(20-input_over)),2)\n",
    "    \n",
    "    if min_score < input_runs:\n",
    "        min_score = min_score_adj(min_score)\n",
    "    else:\n",
    "        pass\n",
    "    \n",
    "    #if max_score < input_targ:\n",
    "    #    display_outputs_i2(min_score, max_score, pred_score, err, expected_runs, proj_RunR)\n",
    "    #else:\n",
    "    #   pass\n",
    "    \n",
    "    # calling out the next function\n",
    "    dist_vars_i2(base_data_i2,expected_runs)"
   ]
  },
  {
   "cell_type": "code",
   "execution_count": 46,
   "metadata": {
    "_kg_hide-input": true,
    "execution": {
     "iopub.execute_input": "2021-10-19T02:37:38.375145Z",
     "iopub.status.busy": "2021-10-19T02:37:38.374348Z",
     "iopub.status.idle": "2021-10-19T02:37:38.381087Z",
     "shell.execute_reply": "2021-10-19T02:37:38.379906Z",
     "shell.execute_reply.started": "2021-10-19T02:37:38.375111Z"
    }
   },
   "outputs": [],
   "source": [
    "def display_outputs_i2(min_score, max_score, pred_score, err, expected_runs, proj_RunR):\n",
    "    # printing out the output predictions\n",
    "    print(' ')\n",
    "    print('>> COMPLETED INNINGS SCORE : ' + str(pred_score))\n",
    "    print('>> VARIANCE IN PREDICTION : +/-' + str(int(err)))\n",
    "    print('>> RANGE OF INNINGS TOTAL : ' + str(min_score) + ' to ' + str(max_score))"
   ]
  },
  {
   "cell_type": "code",
   "execution_count": 47,
   "metadata": {
    "_kg_hide-input": true,
    "execution": {
     "iopub.execute_input": "2021-10-19T02:06:32.761407Z",
     "iopub.status.busy": "2021-10-19T02:06:32.761066Z",
     "iopub.status.idle": "2021-10-19T02:06:32.769903Z",
     "shell.execute_reply": "2021-10-19T02:06:32.768951Z",
     "shell.execute_reply.started": "2021-10-19T02:06:32.761366Z"
    }
   },
   "outputs": [],
   "source": [
    "def dist_vars_i2(innings_data,expected_runs):\n",
    "    mu = innings_data.loc[ (overs_req & wicks_req)].Runs_to_be_Scored.mean()\n",
    "    sigma = innings_data.loc[ (overs_req & wicks_req)].Runs_to_be_Scored.std(ddof=1)\n",
    "    \n",
    "    display_prob(base_data_i2, expected_runs, mu, sigma)"
   ]
  },
  {
   "cell_type": "code",
   "execution_count": 48,
   "metadata": {
    "_kg_hide-input": true,
    "execution": {
     "iopub.execute_input": "2021-10-19T02:06:32.772157Z",
     "iopub.status.busy": "2021-10-19T02:06:32.771797Z",
     "iopub.status.idle": "2021-10-19T02:06:32.782487Z",
     "shell.execute_reply": "2021-10-19T02:06:32.781802Z",
     "shell.execute_reply.started": "2021-10-19T02:06:32.772116Z"
    }
   },
   "outputs": [],
   "source": [
    "def display_prob(innings_data, expected_runs, mu, sigma):\n",
    "    \n",
    "    # obtaining required runs to win\n",
    "    runs_to_win = input_targ - input_runs\n",
    "    \n",
    "    # obtaining probability of winning using the cumulative density function under normal distribution\n",
    "    prob = round((1 - norm.cdf(runs_to_win ,mu ,sigma)),4)*100\n",
    "    \n",
    "    print(\" \")\n",
    "    print(\">> PROBABILITY OF CHASING A TARGET OF \" + str(input_targ) + \" IS : \" + str(prob) + \" %\")\n",
    "    \n",
    "    display_dist_i2(base_data_i2, mu, sigma, expected_runs, runs_to_win)"
   ]
  },
  {
   "cell_type": "code",
   "execution_count": 49,
   "metadata": {
    "_kg_hide-input": true,
    "execution": {
     "iopub.execute_input": "2021-10-19T02:35:54.142255Z",
     "iopub.status.busy": "2021-10-19T02:35:54.141953Z",
     "iopub.status.idle": "2021-10-19T02:35:54.151662Z",
     "shell.execute_reply": "2021-10-19T02:35:54.151008Z",
     "shell.execute_reply.started": "2021-10-19T02:35:54.142223Z"
    }
   },
   "outputs": [],
   "source": [
    "def display_dist_i2(innings_data, mu, sigma, expected_runs, runs_to_win):\n",
    "    \n",
    "    ww = np.arange(0 , norm.pdf(runs_to_win , mu , sigma) , 0.00001)\n",
    "\n",
    "    plt.figure(figsize=(10, 6))\n",
    "    \n",
    "    sns.kdeplot(data =innings_data.loc[ overs_req & wicks_req ].Runs_to_be_Scored, \n",
    "                 shade = True, label = 'Based on overs and wickets only'\n",
    "                )\n",
    "    sns.kdeplot(data =innings_data.loc[ (overs_req & wicks_req) | ReqRR_req ].Runs_to_be_Scored, \n",
    "                 shade = True, label='Based on overs and wickets and Required Rates'\n",
    "                )\n",
    "    \n",
    "    plt.plot(runs_to_win+ww-ww, ww, linestyle='-', label='Runs to Target', color='red')\n",
    "    #plt.plot(expected_runs+qq-qq, qq, linestyle='-', label='Runs to Probable Score', color='green')\n",
    "    \n",
    "    if runs_to_win + 100 > (20-input_over)*30:\n",
    "        max_limit = (20-input_over)*30\n",
    "    else:\n",
    "        max_limit = runs_to_win +100\n",
    "    \n",
    "    \n",
    "    #plt.xlim([0,max_limit])\n",
    "    plt.legend()\n",
    "    plt.xlabel(\"Predicted Runs to be Scored\")\n",
    "    plt.show()"
   ]
  },
  {
   "cell_type": "markdown",
   "metadata": {},
   "source": [
    "# Open Predictor"
   ]
  },
  {
   "cell_type": "code",
   "execution_count": null,
   "metadata": {
    "execution": {
     "iopub.execute_input": "2021-10-19T02:06:32.797731Z",
     "iopub.status.busy": "2021-10-19T02:06:32.797443Z",
     "iopub.status.idle": "2021-10-19T02:06:54.107644Z",
     "shell.execute_reply": "2021-10-19T02:06:54.106752Z",
     "shell.execute_reply.started": "2021-10-19T02:06:32.797702Z"
    }
   },
   "outputs": [],
   "source": [
    "## for first innings score predictor\n",
    "input_t20_i1()"
   ]
  },
  {
   "cell_type": "code",
   "execution_count": null,
   "metadata": {
    "execution": {
     "iopub.execute_input": "2021-10-19T02:45:01.253874Z",
     "iopub.status.busy": "2021-10-19T02:45:01.253588Z",
     "iopub.status.idle": "2021-10-19T02:45:17.936040Z",
     "shell.execute_reply": "2021-10-19T02:45:17.935509Z",
     "shell.execute_reply.started": "2021-10-19T02:45:01.253845Z"
    }
   },
   "outputs": [],
   "source": [
    "##### for second innings win percentage\n",
    "input_t20_i2()"
   ]
  },
  {
   "cell_type": "markdown",
   "metadata": {},
   "source": [
    "# "
   ]
  }
 ],
 "metadata": {
  "kernelspec": {
   "display_name": "Python 3 (ipykernel)",
   "language": "python",
   "name": "python3"
  },
  "language_info": {
   "codemirror_mode": {
    "name": "ipython",
    "version": 3
   },
   "file_extension": ".py",
   "mimetype": "text/x-python",
   "name": "python",
   "nbconvert_exporter": "python",
   "pygments_lexer": "ipython3",
   "version": "3.9.13"
  },
  "vscode": {
   "interpreter": {
    "hash": "bdb715d3f28895bf8d1f1f0337a53a101c9666f588645ae97659721ee0d271c0"
   }
  }
 },
 "nbformat": 4,
 "nbformat_minor": 4
}
