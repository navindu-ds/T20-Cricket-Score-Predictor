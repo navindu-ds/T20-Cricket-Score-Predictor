{
 "cells": [
  {
   "cell_type": "code",
   "execution_count": 10,
   "id": "abe196e5",
   "metadata": {},
   "outputs": [
    {
     "data": {
      "text/plain": [
       "RandomForestRegressor()"
      ]
     },
     "execution_count": 10,
     "metadata": {},
     "output_type": "execute_result"
    }
   ],
   "source": [
    "import numpy as np # linear algebra\n",
    "import pandas as pd # data processing, CSV file I/O (e.g. pd.read_csv)\n",
    "import streamlit as st\n",
    "\n",
    "import sys\n",
    "import math\n",
    "\n",
    "# for measuring the efficiency/variability of the model\n",
    "from sklearn.metrics import mean_absolute_error\n",
    "\n",
    "# importing XGBoost API\n",
    "from xgboost import XGBRegressor\n",
    "from sklearn.ensemble import RandomForestRegressor\n",
    "\n",
    "# importing joblib to save model as package\n",
    "import joblib\n",
    "\n",
    "# importing pathlib to handle paths to csv dataset\n",
    "from pathlib import Path \n",
    "\n",
    "__file__ = Path.cwd()\n",
    "\n",
    "def obtain_X_y():\n",
    "    file_path = Path(__file__).parent.joinpath('Dataset', \"processed-data-i1.csv\")\n",
    "    base_data_i1 = pd.read_csv(file_path)\n",
    "\n",
    "    # declaring the independent paramaters\n",
    "    x_features = ['Over','Inn_Score_atm','Inn_Wicks_atm','R_Rate_atm','Ptnr_Avg_atm','L3_Wicks','L3_Runs']\n",
    "    X = base_data_i1[x_features]\n",
    "\n",
    "    # target variable \n",
    "    y = base_data_i1.Runs_to_be_Scored\n",
    "\n",
    "    return X,y\n",
    "\n",
    "\n",
    "# # saving the created model into a package file\n",
    "# joblib.dump(model, \"gen_1st_inn_model.pkl\") \n",
    "\n"
   ]
  },
  {
   "cell_type": "code",
   "execution_count": 70,
   "id": "f3cc8f4f",
   "metadata": {},
   "outputs": [],
   "source": [
    "from sklearn.model_selection import cross_val_score"
   ]
  },
  {
   "cell_type": "code",
   "execution_count": 13,
   "id": "90ad8fa5",
   "metadata": {},
   "outputs": [],
   "source": [
    "X,y = obtain_X_y()"
   ]
  },
  {
   "cell_type": "code",
   "execution_count": 52,
   "id": "2b1dd148",
   "metadata": {},
   "outputs": [],
   "source": [
    "from sklearn.model_selection import train_test_split\n",
    "train_X, val_X, train_y, val_y = train_test_split(X, y, random_state = 1)"
   ]
  },
  {
   "cell_type": "code",
   "execution_count": 77,
   "id": "40c8236b",
   "metadata": {},
   "outputs": [],
   "source": [
    "XGBmodel = XGBRegressor(n_estimators = 500, learning_rate = 0.1 )"
   ]
  },
  {
   "cell_type": "code",
   "execution_count": 79,
   "id": "2b489660",
   "metadata": {},
   "outputs": [
    {
     "data": {
      "text/plain": [
       "XGBRegressor(base_score=None, booster=None, callbacks=None,\n",
       "             colsample_bylevel=None, colsample_bynode=None,\n",
       "             colsample_bytree=None, early_stopping_rounds=None,\n",
       "             enable_categorical=False, eval_metric=None, feature_types=None,\n",
       "             gamma=None, gpu_id=None, grow_policy=None, importance_type=None,\n",
       "             interaction_constraints=None, learning_rate=0.1, max_bin=None,\n",
       "             max_cat_threshold=None, max_cat_to_onehot=None,\n",
       "             max_delta_step=None, max_depth=None, max_leaves=None,\n",
       "             min_child_weight=None, missing=nan, monotone_constraints=None,\n",
       "             n_estimators=500, n_jobs=None, num_parallel_tree=None,\n",
       "             predictor=None, random_state=None, ...)"
      ]
     },
     "execution_count": 79,
     "metadata": {},
     "output_type": "execute_result"
    }
   ],
   "source": [
    "XGBmodel.fit(train_X, train_y, \n",
    "             early_stopping_rounds=5, \n",
    "             eval_set=[(val_X, val_y)],\n",
    "             verbose=False)"
   ]
  },
  {
   "cell_type": "code",
   "execution_count": 80,
   "id": "791a0334",
   "metadata": {},
   "outputs": [],
   "source": [
    "ForestModel = RandomForestRegressor()"
   ]
  },
  {
   "cell_type": "code",
   "execution_count": null,
   "id": "60439a82",
   "metadata": {},
   "outputs": [],
   "source": []
  },
  {
   "cell_type": "code",
   "execution_count": null,
   "id": "ceac58cc",
   "metadata": {},
   "outputs": [],
   "source": []
  },
  {
   "cell_type": "code",
   "execution_count": 83,
   "id": "9688ac08",
   "metadata": {},
   "outputs": [],
   "source": [
    "def scores(model):\n",
    "    model\n",
    "    scores = -1*cross_val_score(model, X, y, cv=5, scoring=\"neg_mean_absolute_error\")\n",
    "    scores.mean()"
   ]
  },
  {
   "cell_type": "code",
   "execution_count": 65,
   "id": "001638f1",
   "metadata": {},
   "outputs": [],
   "source": [
    "train_val_y = model.predict(train_X)"
   ]
  },
  {
   "cell_type": "code",
   "execution_count": 66,
   "id": "76ce516f",
   "metadata": {},
   "outputs": [
    {
     "data": {
      "text/plain": [
       "11.817789357030081"
      ]
     },
     "execution_count": 66,
     "metadata": {},
     "output_type": "execute_result"
    }
   ],
   "source": [
    "mean_absolute_error(train_val_y, train_y)"
   ]
  },
  {
   "cell_type": "code",
   "execution_count": 67,
   "id": "10c3e40f",
   "metadata": {},
   "outputs": [],
   "source": [
    "pred_y = model.predict(val_X)"
   ]
  },
  {
   "cell_type": "code",
   "execution_count": 68,
   "id": "6dbb560f",
   "metadata": {},
   "outputs": [
    {
     "data": {
      "text/plain": [
       "3523"
      ]
     },
     "execution_count": 68,
     "metadata": {},
     "output_type": "execute_result"
    }
   ],
   "source": [
    "len(pred_y)"
   ]
  },
  {
   "cell_type": "code",
   "execution_count": 69,
   "id": "a2b24d37",
   "metadata": {},
   "outputs": [
    {
     "data": {
      "text/plain": [
       "13.053429478867201"
      ]
     },
     "execution_count": 69,
     "metadata": {},
     "output_type": "execute_result"
    }
   ],
   "source": [
    "mean_absolute_error(val_y, pred_y)"
   ]
  },
  {
   "cell_type": "code",
   "execution_count": 74,
   "id": "b4f992b5",
   "metadata": {},
   "outputs": [],
   "source": [
    "scores = -1*cross_val_score(model, X, y, cv=5, scoring=\"neg_mean_absolute_error\")"
   ]
  },
  {
   "cell_type": "code",
   "execution_count": 76,
   "id": "a0380184",
   "metadata": {},
   "outputs": [
    {
     "data": {
      "text/plain": [
       "13.958696928555886"
      ]
     },
     "execution_count": 76,
     "metadata": {},
     "output_type": "execute_result"
    }
   ],
   "source": [
    "scores.mean()"
   ]
  },
  {
   "cell_type": "code",
   "execution_count": null,
   "id": "59c02540",
   "metadata": {},
   "outputs": [],
   "source": []
  }
 ],
 "metadata": {
  "kernelspec": {
   "display_name": "Python 3 (ipykernel)",
   "language": "python",
   "name": "python3"
  },
  "language_info": {
   "codemirror_mode": {
    "name": "ipython",
    "version": 3
   },
   "file_extension": ".py",
   "mimetype": "text/x-python",
   "name": "python",
   "nbconvert_exporter": "python",
   "pygments_lexer": "ipython3",
   "version": "3.9.13"
  }
 },
 "nbformat": 4,
 "nbformat_minor": 5
}
