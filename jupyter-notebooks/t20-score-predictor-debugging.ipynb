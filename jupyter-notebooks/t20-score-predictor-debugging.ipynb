{
 "cells": [
  {
   "cell_type": "code",
   "execution_count": 96,
   "id": "5579d88b",
   "metadata": {},
   "outputs": [],
   "source": [
    "from sklearn.ensemble import RandomForestRegressor\n",
    "from xgboost import XGBRegressor\n",
    "from sklearn.tree import DecisionTreeRegressor\n",
    "from sklearn.linear_model import LinearRegression"
   ]
  },
  {
   "cell_type": "code",
   "execution_count": 10,
   "id": "097fba83",
   "metadata": {},
   "outputs": [
    {
     "data": {
      "text/plain": [
       "RandomForestRegressor()"
      ]
     },
     "execution_count": 10,
     "metadata": {},
     "output_type": "execute_result"
    }
   ],
   "source": [
    "import numpy as np # linear algebra\n",
    "import pandas as pd # data processing, CSV file I/O (e.g. pd.read_csv)\n",
    "import streamlit as st\n",
    "\n",
    "import sys\n",
    "import math\n",
    "\n",
    "# for measuring the efficiency/variability of the model\n",
    "from sklearn.metrics import mean_absolute_error\n",
    "\n",
    "# importing XGBoost API\n",
    "from xgboost import XGBRegressor\n",
    "from sklearn.ensemble import RandomForestRegressor\n",
    "\n",
    "# importing joblib to save model as package\n",
    "import joblib\n",
    "\n",
    "# importing pathlib to handle paths to csv dataset\n",
    "from pathlib import Path \n",
    "\n",
    "__file__ = Path.cwd()\n",
    "\n",
    "def obtain_X_y():\n",
    "    file_path = Path(__file__).parent.joinpath('Dataset', \"processed-data-i1.csv\")\n",
    "    base_data_i1 = pd.read_csv(file_path)\n",
    "\n",
    "    # declaring the independent paramaters\n",
    "    x_features = ['Over','Inn_Score_atm','Inn_Wicks_atm','R_Rate_atm','Ptnr_Avg_atm','L3_Wicks','L3_Runs']\n",
    "    X = base_data_i1[x_features]\n",
    "\n",
    "    # target variable \n",
    "    y = base_data_i1.Runs_to_be_Scored\n",
    "\n",
    "    return X,y\n",
    "\n",
    "\n",
    "# # saving the created model into a package file\n",
    "# joblib.dump(model, \"gen_1st_inn_model.pkl\") \n",
    "\n"
   ]
  },
  {
   "cell_type": "code",
   "execution_count": 70,
   "id": "53835574",
   "metadata": {},
   "outputs": [],
   "source": [
    "from sklearn.model_selection import cross_val_score"
   ]
  },
  {
   "cell_type": "code",
   "execution_count": 13,
   "id": "821b63f0",
   "metadata": {},
   "outputs": [],
   "source": [
    "X,y = obtain_X_y()"
   ]
  },
  {
   "cell_type": "code",
   "execution_count": 52,
   "id": "09b10b1c",
   "metadata": {},
   "outputs": [],
   "source": [
    "from sklearn.model_selection import train_test_split\n",
    "train_X, val_X, train_y, val_y = train_test_split(X, y, random_state = 1)"
   ]
  },
  {
   "cell_type": "code",
   "execution_count": null,
   "id": "31fc076f",
   "metadata": {},
   "outputs": [],
   "source": []
  },
  {
   "cell_type": "code",
   "execution_count": 105,
   "id": "495d715a",
   "metadata": {},
   "outputs": [],
   "source": [
    "models = []"
   ]
  },
  {
   "cell_type": "code",
   "execution_count": 106,
   "id": "cb38a761",
   "metadata": {},
   "outputs": [
    {
     "name": "stderr",
     "output_type": "stream",
     "text": [
      "C:\\Users\\Hp\\anaconda3\\lib\\site-packages\\xgboost\\sklearn.py:835: UserWarning: `early_stopping_rounds` in `fit` method is deprecated for better compatibility with scikit-learn, use `early_stopping_rounds` in constructor or`set_params` instead.\n",
      "  warnings.warn(\n"
     ]
    }
   ],
   "source": [
    "XGBmodel = XGBRegressor(n_estimators = 500, learning_rate = 0.1 )\n",
    "XGBmodel.fit(train_X, train_y, \n",
    "             early_stopping_rounds=5, \n",
    "             eval_set=[(val_X, val_y)],\n",
    "             verbose=False)\n",
    "models.append(XGBmodel)"
   ]
  },
  {
   "cell_type": "code",
   "execution_count": 107,
   "id": "737192b0",
   "metadata": {},
   "outputs": [],
   "source": [
    "Forestmodel = RandomForestRegressor()\n",
    "models.append(Forestmodel)"
   ]
  },
  {
   "cell_type": "code",
   "execution_count": 108,
   "id": "2af3f822",
   "metadata": {},
   "outputs": [],
   "source": [
    "Treemodel = DecisionTreeRegressor()\n",
    "models.append(Treemodel)"
   ]
  },
  {
   "cell_type": "code",
   "execution_count": 109,
   "id": "a2807333",
   "metadata": {},
   "outputs": [],
   "source": [
    "LRmodel = LinearRegression()\n",
    "models.append(LRmodel)"
   ]
  },
  {
   "cell_type": "code",
   "execution_count": 111,
   "id": "da5725e5",
   "metadata": {},
   "outputs": [
    {
     "data": {
      "text/html": [
       "<div>\n",
       "<style scoped>\n",
       "    .dataframe tbody tr th:only-of-type {\n",
       "        vertical-align: middle;\n",
       "    }\n",
       "\n",
       "    .dataframe tbody tr th {\n",
       "        vertical-align: top;\n",
       "    }\n",
       "\n",
       "    .dataframe thead th {\n",
       "        text-align: right;\n",
       "    }\n",
       "</style>\n",
       "<table border=\"1\" class=\"dataframe\">\n",
       "  <thead>\n",
       "    <tr style=\"text-align: right;\">\n",
       "      <th></th>\n",
       "      <th>Over</th>\n",
       "      <th>Inn_Score_atm</th>\n",
       "      <th>Inn_Wicks_atm</th>\n",
       "      <th>R_Rate_atm</th>\n",
       "      <th>Ptnr_Avg_atm</th>\n",
       "      <th>L3_Wicks</th>\n",
       "      <th>L3_Runs</th>\n",
       "    </tr>\n",
       "  </thead>\n",
       "  <tbody>\n",
       "    <tr>\n",
       "      <th>0</th>\n",
       "      <td>4</td>\n",
       "      <td>41</td>\n",
       "      <td>0</td>\n",
       "      <td>10.25</td>\n",
       "      <td>41.00</td>\n",
       "      <td>0.0</td>\n",
       "      <td>30.0</td>\n",
       "    </tr>\n",
       "    <tr>\n",
       "      <th>1</th>\n",
       "      <td>5</td>\n",
       "      <td>48</td>\n",
       "      <td>1</td>\n",
       "      <td>9.60</td>\n",
       "      <td>24.00</td>\n",
       "      <td>1.0</td>\n",
       "      <td>29.0</td>\n",
       "    </tr>\n",
       "    <tr>\n",
       "      <th>2</th>\n",
       "      <td>6</td>\n",
       "      <td>61</td>\n",
       "      <td>1</td>\n",
       "      <td>10.17</td>\n",
       "      <td>30.50</td>\n",
       "      <td>1.0</td>\n",
       "      <td>33.0</td>\n",
       "    </tr>\n",
       "    <tr>\n",
       "      <th>3</th>\n",
       "      <td>7</td>\n",
       "      <td>63</td>\n",
       "      <td>3</td>\n",
       "      <td>9.00</td>\n",
       "      <td>15.75</td>\n",
       "      <td>3.0</td>\n",
       "      <td>22.0</td>\n",
       "    </tr>\n",
       "    <tr>\n",
       "      <th>4</th>\n",
       "      <td>8</td>\n",
       "      <td>66</td>\n",
       "      <td>3</td>\n",
       "      <td>8.25</td>\n",
       "      <td>16.50</td>\n",
       "      <td>2.0</td>\n",
       "      <td>18.0</td>\n",
       "    </tr>\n",
       "    <tr>\n",
       "      <th>...</th>\n",
       "      <td>...</td>\n",
       "      <td>...</td>\n",
       "      <td>...</td>\n",
       "      <td>...</td>\n",
       "      <td>...</td>\n",
       "      <td>...</td>\n",
       "      <td>...</td>\n",
       "    </tr>\n",
       "    <tr>\n",
       "      <th>14087</th>\n",
       "      <td>16</td>\n",
       "      <td>147</td>\n",
       "      <td>4</td>\n",
       "      <td>9.19</td>\n",
       "      <td>29.40</td>\n",
       "      <td>2.0</td>\n",
       "      <td>27.0</td>\n",
       "    </tr>\n",
       "    <tr>\n",
       "      <th>14088</th>\n",
       "      <td>17</td>\n",
       "      <td>156</td>\n",
       "      <td>5</td>\n",
       "      <td>9.18</td>\n",
       "      <td>26.00</td>\n",
       "      <td>2.0</td>\n",
       "      <td>29.0</td>\n",
       "    </tr>\n",
       "    <tr>\n",
       "      <th>14089</th>\n",
       "      <td>18</td>\n",
       "      <td>168</td>\n",
       "      <td>6</td>\n",
       "      <td>9.33</td>\n",
       "      <td>24.00</td>\n",
       "      <td>3.0</td>\n",
       "      <td>28.0</td>\n",
       "    </tr>\n",
       "    <tr>\n",
       "      <th>14090</th>\n",
       "      <td>19</td>\n",
       "      <td>184</td>\n",
       "      <td>7</td>\n",
       "      <td>9.68</td>\n",
       "      <td>23.00</td>\n",
       "      <td>3.0</td>\n",
       "      <td>37.0</td>\n",
       "    </tr>\n",
       "    <tr>\n",
       "      <th>14091</th>\n",
       "      <td>20</td>\n",
       "      <td>208</td>\n",
       "      <td>7</td>\n",
       "      <td>10.40</td>\n",
       "      <td>26.00</td>\n",
       "      <td>2.0</td>\n",
       "      <td>52.0</td>\n",
       "    </tr>\n",
       "  </tbody>\n",
       "</table>\n",
       "<p>14092 rows × 7 columns</p>\n",
       "</div>"
      ],
      "text/plain": [
       "       Over  Inn_Score_atm  Inn_Wicks_atm  R_Rate_atm  Ptnr_Avg_atm  L3_Wicks  \\\n",
       "0         4             41              0       10.25         41.00       0.0   \n",
       "1         5             48              1        9.60         24.00       1.0   \n",
       "2         6             61              1       10.17         30.50       1.0   \n",
       "3         7             63              3        9.00         15.75       3.0   \n",
       "4         8             66              3        8.25         16.50       2.0   \n",
       "...     ...            ...            ...         ...           ...       ...   \n",
       "14087    16            147              4        9.19         29.40       2.0   \n",
       "14088    17            156              5        9.18         26.00       2.0   \n",
       "14089    18            168              6        9.33         24.00       3.0   \n",
       "14090    19            184              7        9.68         23.00       3.0   \n",
       "14091    20            208              7       10.40         26.00       2.0   \n",
       "\n",
       "       L3_Runs  \n",
       "0         30.0  \n",
       "1         29.0  \n",
       "2         33.0  \n",
       "3         22.0  \n",
       "4         18.0  \n",
       "...        ...  \n",
       "14087     27.0  \n",
       "14088     29.0  \n",
       "14089     28.0  \n",
       "14090     37.0  \n",
       "14091     52.0  \n",
       "\n",
       "[14092 rows x 7 columns]"
      ]
     },
     "execution_count": 111,
     "metadata": {},
     "output_type": "execute_result"
    }
   ],
   "source": [
    "X"
   ]
  },
  {
   "cell_type": "code",
   "execution_count": null,
   "id": "6605812a",
   "metadata": {},
   "outputs": [],
   "source": []
  },
  {
   "cell_type": "code",
   "execution_count": 87,
   "id": "19cf99cd",
   "metadata": {},
   "outputs": [],
   "source": [
    "def scores(model):\n",
    "    print(model)\n",
    "    scores = -1*cross_val_score(model, X, y, cv=5, scoring=\"neg_mean_absolute_error\")\n",
    "    print(scores.mean())\n",
    "    print(\"\")"
   ]
  },
  {
   "cell_type": "code",
   "execution_count": 65,
   "id": "f7e6f18a",
   "metadata": {},
   "outputs": [],
   "source": [
    "train_val_y = model.predict(train_X)"
   ]
  },
  {
   "cell_type": "code",
   "execution_count": 66,
   "id": "512fca89",
   "metadata": {},
   "outputs": [
    {
     "data": {
      "text/plain": [
       "11.817789357030081"
      ]
     },
     "execution_count": 66,
     "metadata": {},
     "output_type": "execute_result"
    }
   ],
   "source": [
    "mean_absolute_error(train_val_y, train_y)"
   ]
  },
  {
   "cell_type": "code",
   "execution_count": 67,
   "id": "f063f460",
   "metadata": {},
   "outputs": [],
   "source": [
    "pred_y = model.predict(val_X)"
   ]
  },
  {
   "cell_type": "code",
   "execution_count": 68,
   "id": "45d202c9",
   "metadata": {},
   "outputs": [
    {
     "data": {
      "text/plain": [
       "3523"
      ]
     },
     "execution_count": 68,
     "metadata": {},
     "output_type": "execute_result"
    }
   ],
   "source": [
    "len(pred_y)"
   ]
  },
  {
   "cell_type": "code",
   "execution_count": 69,
   "id": "7bbbc630",
   "metadata": {},
   "outputs": [
    {
     "data": {
      "text/plain": [
       "13.053429478867201"
      ]
     },
     "execution_count": 69,
     "metadata": {},
     "output_type": "execute_result"
    }
   ],
   "source": [
    "mean_absolute_error(val_y, pred_y)"
   ]
  },
  {
   "cell_type": "code",
   "execution_count": 74,
   "id": "a394ae00",
   "metadata": {},
   "outputs": [],
   "source": [
    "scores = -1*cross_val_score(model, X, y, cv=5, scoring=\"neg_mean_absolute_error\")"
   ]
  },
  {
   "cell_type": "code",
   "execution_count": 76,
   "id": "70db2c63",
   "metadata": {},
   "outputs": [
    {
     "data": {
      "text/plain": [
       "13.958696928555886"
      ]
     },
     "execution_count": 76,
     "metadata": {},
     "output_type": "execute_result"
    }
   ],
   "source": [
    "scores.mean()"
   ]
  },
  {
   "cell_type": "code",
   "execution_count": 110,
   "id": "262456ac",
   "metadata": {},
   "outputs": [
    {
     "name": "stdout",
     "output_type": "stream",
     "text": [
      "XGBRegressor(base_score=None, booster=None, callbacks=None,\n",
      "             colsample_bylevel=None, colsample_bynode=None,\n",
      "             colsample_bytree=None, early_stopping_rounds=None,\n",
      "             enable_categorical=False, eval_metric=None, feature_types=None,\n",
      "             gamma=None, gpu_id=None, grow_policy=None, importance_type=None,\n",
      "             interaction_constraints=None, learning_rate=0.1, max_bin=None,\n",
      "             max_cat_threshold=None, max_cat_to_onehot=None,\n",
      "             max_delta_step=None, max_depth=None, max_leaves=None,\n",
      "             min_child_weight=None, missing=nan, monotone_constraints=None,\n",
      "             n_estimators=500, n_jobs=None, num_parallel_tree=None,\n",
      "             predictor=None, random_state=None, ...)\n",
      "13.958696928555886\n",
      "\n",
      "RandomForestRegressor()\n",
      "14.305204889422104\n",
      "\n",
      "DecisionTreeRegressor()\n",
      "18.585338718485104\n",
      "\n",
      "LinearRegression()\n",
      "13.672777352739235\n",
      "\n"
     ]
    }
   ],
   "source": [
    "for m in models:\n",
    "    \n",
    "    scores(m)"
   ]
  }
 ],
 "metadata": {
  "kernelspec": {
   "display_name": "Python 3 (ipykernel)",
   "language": "python",
   "name": "python3"
  },
  "language_info": {
   "codemirror_mode": {
    "name": "ipython",
    "version": 3
   },
   "file_extension": ".py",
   "mimetype": "text/x-python",
   "name": "python",
   "nbconvert_exporter": "python",
   "pygments_lexer": "ipython3",
   "version": "3.9.13"
  }
 },
 "nbformat": 4,
 "nbformat_minor": 5
}
