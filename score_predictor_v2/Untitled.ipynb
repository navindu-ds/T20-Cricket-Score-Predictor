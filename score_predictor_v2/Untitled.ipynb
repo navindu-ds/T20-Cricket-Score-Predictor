{
 "cells": [
  {
   "cell_type": "code",
   "execution_count": 24,
   "id": "cd314dbf",
   "metadata": {},
   "outputs": [
    {
     "data": {
      "text/plain": [
       "count    14092.000000\n",
       "mean        10.953426\n",
       "std         10.494252\n",
       "min          0.000681\n",
       "25%          3.127962\n",
       "50%          8.038486\n",
       "75%         15.608027\n",
       "max         83.506393\n",
       "Name: Runs_to_be_Scored, dtype: float64"
      ]
     },
     "execution_count": 24,
     "metadata": {},
     "output_type": "execute_result"
    }
   ],
   "source": [
    "import numpy as np # linear algebra\n",
    "import pandas as pd # data processing, CSV file I/O (e.g. pd.read_csv)\n",
    "import streamlit as st\n",
    "import construct_general_model\n",
    "\n",
    "import sys\n",
    "import math\n",
    "\n",
    "# for measuring the efficiency/variability of the model\n",
    "from sklearn.metrics import mean_absolute_error\n",
    "\n",
    "# importing XGBoost API\n",
    "from xgboost import XGBRegressor\n",
    "from sklearn.ensemble import RandomForestRegressor\n",
    "\n",
    "# importing joblib to save model as package\n",
    "import joblib\n",
    "\n",
    "# importing pathlib to handle paths to csv dataset\n",
    "from pathlib import Path \n",
    "\n",
    "__file__ = Path.cwd()\n",
    "file_path = Path(__file__).parent.joinpath('Dataset', \"processed-data-i1.csv\")\n",
    "base_data_i1 = pd.read_csv(file_path)\n",
    "\n",
    "X,y = construct_general_model.obtain_X_y()\n",
    "\n",
    "model = joblib.load('gen_1st_inn_model.pkl')\n",
    "pred_y = model.predict(X)\n",
    "\n",
    "err = abs(y - pred_y)\n",
    "\n",
    "err.describe()"
   ]
  },
  {
   "cell_type": "code",
   "execution_count": 22,
   "id": "f999c9d8",
   "metadata": {},
   "outputs": [
    {
     "data": {
      "text/plain": [
       "3.0585401056729076"
      ]
     },
     "execution_count": 22,
     "metadata": {},
     "output_type": "execute_result"
    }
   ],
   "source": [
    "\n",
    "err_model = RandomForestRegressor(n_estimators = 100)\n",
    "err_model.fit(X,err)\n",
    "\n",
    "pred_err = err_model.predict(X)\n",
    "mean_absolute_error(err,pred_err)"
   ]
  }
 ],
 "metadata": {
  "kernelspec": {
   "display_name": "Python 3 (ipykernel)",
   "language": "python",
   "name": "python3"
  },
  "language_info": {
   "codemirror_mode": {
    "name": "ipython",
    "version": 3
   },
   "file_extension": ".py",
   "mimetype": "text/x-python",
   "name": "python",
   "nbconvert_exporter": "python",
   "pygments_lexer": "ipython3",
   "version": "3.9.13"
  }
 },
 "nbformat": 4,
 "nbformat_minor": 5
}
